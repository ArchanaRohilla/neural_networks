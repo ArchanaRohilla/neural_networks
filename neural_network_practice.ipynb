{
 "cells": [
  {
   "cell_type": "code",
   "execution_count": 1,
   "metadata": {},
   "outputs": [],
   "source": [
    "# Import our dependencies\n",
    "import pandas as pd\n",
    "import matplotlib as plt\n",
    "from sklearn.datasets import make_blobs\n",
    "import sklearn as skl\n",
    "import tensorflow as tf"
   ]
  },
  {
   "cell_type": "code",
   "execution_count": 2,
   "metadata": {},
   "outputs": [
    {
     "data": {
      "text/plain": [
       "<matplotlib.axes._subplots.AxesSubplot at 0x18402182548>"
      ]
     },
     "execution_count": 2,
     "metadata": {},
     "output_type": "execute_result"
    },
    {
     "data": {
      "image/png": "[encoded data removed]",
      "text/plain": [
       "<Figure size 432x288 with 2 Axes>"
      ]
     },
     "metadata": {
      "needs_background": "light"
     },
     "output_type": "display_data"
    }
   ],
   "source": [
    "# Generate dummy dataset\n",
    "X, y = make_blobs(n_samples=1000, centers=2, n_features=2, random_state=78)\n",
    "\n",
    "# Creating a DataFrame with the dummy data\n",
    "df = pd.DataFrame(X, columns=[\"Feature 1\", \"Feature 2\"])\n",
    "df[\"Target\"] = y\n",
    "\n",
    "# Plotting the dummy data\n",
    "df.plot.scatter(x=\"Feature 1\", y=\"Feature 2\", c=\"Target\", colormap=\"winter\")"
   ]
  },
  {
   "cell_type": "code",
   "execution_count": 3,
   "metadata": {},
   "outputs": [],
   "source": [
    "# Use sklearn to split dataset\n",
    "from sklearn.model_selection import train_test_split\n",
    "X_train, X_test, y_train, y_test = train_test_split(X, y, random_state=78)"
   ]
  },
  {
   "cell_type": "code",
   "execution_count": 4,
   "metadata": {},
   "outputs": [],
   "source": [
    "# Create scaler instance\n",
    "X_scaler = skl.preprocessing.StandardScaler()\n",
    "\n",
    "# Fit the scaler\n",
    "X_scaler.fit(X_train)\n",
    "\n",
    "# Scale the data\n",
    "X_train_scaled = X_scaler.transform(X_train)\n",
    "X_test_scaled = X_scaler.transform(X_test)"
   ]
  },
  {
   "cell_type": "code",
   "execution_count": 5,
   "metadata": {},
   "outputs": [],
   "source": [
    "# Create the Keras Sequential model\n",
    "nn_model = tf.keras.models.Sequential()"
   ]
  },
  {
   "cell_type": "code",
   "execution_count": 6,
   "metadata": {},
   "outputs": [],
   "source": [
    "# Add our first Dense layer, including the input layer\n",
    "nn_model.add(tf.keras.layers.Dense(units=1, activation=\"relu\", input_dim=2))"
   ]
  },
  {
   "cell_type": "code",
   "execution_count": 7,
   "metadata": {},
   "outputs": [],
   "source": [
    "# Add the output layer that uses a probability activation function\n",
    "nn_model.add(tf.keras.layers.Dense(units=1, activation=\"sigmoid\"))"
   ]
  },
  {
   "cell_type": "code",
   "execution_count": 8,
   "metadata": {},
   "outputs": [
    {
     "name": "stdout",
     "output_type": "stream",
     "text": [
      "Model: \"sequential\"\n",
      "_________________________________________________________________\n",
      "Layer (type)                 Output Shape              Param #   \n",
      "=================================================================\n",
      "dense (Dense)                (None, 1)                 3         \n",
      "_________________________________________________________________\n",
      "dense_1 (Dense)              (None, 1)                 2         \n",
      "=================================================================\n",
      "Total params: 5\n",
      "Trainable params: 5\n",
      "Non-trainable params: 0\n",
      "_________________________________________________________________\n"
     ]
    }
   ],
   "source": [
    "# Check the structure of the Sequential model\n",
    "nn_model.summary()"
   ]
  },
  {
   "cell_type": "code",
   "execution_count": 9,
   "metadata": {},
   "outputs": [],
   "source": [
    "# Compile the Sequential model together and customize metrics\n",
    "nn_model.compile(loss=\"binary_crossentropy\", optimizer=\"adam\", metrics=[\"accuracy\"])"
   ]
  },
  {
   "cell_type": "code",
   "execution_count": 10,
   "metadata": {},
   "outputs": [
    {
     "name": "stdout",
     "output_type": "stream",
     "text": [
      "Train on 750 samples\n",
      "Epoch 1/100\n",
      "750/750 [==============================] - 1s 1ms/sample - loss: 0.7078 - accuracy: 0.4787\n",
      "Epoch 2/100\n",
      "750/750 [==============================] - 0s 52us/sample - loss: 0.6991 - accuracy: 0.5107\n",
      "Epoch 3/100\n",
      "750/750 [==============================] - 0s 43us/sample - loss: 0.6916 - accuracy: 0.5280\n",
      "Epoch 4/100\n",
      "750/750 [==============================] - 0s 48us/sample - loss: 0.6844 - accuracy: 0.5600\n",
      "Epoch 5/100\n",
      "750/750 [==============================] - 0s 63us/sample - loss: 0.6779 - accuracy: 0.5827\n",
      "Epoch 6/100\n",
      "750/750 [==============================] - 0s 57us/sample - loss: 0.6715 - accuracy: 0.6013\n",
      "Epoch 7/100\n",
      "750/750 [==============================] - 0s 56us/sample - loss: 0.6649 - accuracy: 0.6173\n",
      "Epoch 8/100\n",
      "750/750 [==============================] - 0s 49us/sample - loss: 0.6581 - accuracy: 0.6440\n",
      "Epoch 9/100\n",
      "750/750 [==============================] - 0s 56us/sample - loss: 0.6510 - accuracy: 0.6480\n",
      "Epoch 10/100\n",
      "750/750 [==============================] - 0s 52us/sample - loss: 0.6434 - accuracy: 0.6720\n",
      "Epoch 11/100\n",
      "750/750 [==============================] - 0s 52us/sample - loss: 0.6351 - accuracy: 0.6867\n",
      "Epoch 12/100\n",
      "750/750 [==============================] - 0s 52us/sample - loss: 0.6262 - accuracy: 0.7013\n",
      "Epoch 13/100\n",
      "750/750 [==============================] - 0s 41us/sample - loss: 0.6169 - accuracy: 0.7120\n",
      "Epoch 14/100\n",
      "750/750 [==============================] - 0s 39us/sample - loss: 0.6071 - accuracy: 0.7280\n",
      "Epoch 15/100\n",
      "750/750 [==============================] - 0s 40us/sample - loss: 0.5964 - accuracy: 0.7413\n",
      "Epoch 16/100\n",
      "750/750 [==============================] - 0s 52us/sample - loss: 0.5857 - accuracy: 0.7560\n",
      "Epoch 17/100\n",
      "750/750 [==============================] - 0s 44us/sample - loss: 0.5742 - accuracy: 0.7707\n",
      "Epoch 18/100\n",
      "750/750 [==============================] - 0s 53us/sample - loss: 0.5628 - accuracy: 0.7827\n",
      "Epoch 19/100\n",
      "750/750 [==============================] - 0s 50us/sample - loss: 0.5512 - accuracy: 0.7947\n",
      "Epoch 20/100\n",
      "750/750 [==============================] - 0s 45us/sample - loss: 0.5398 - accuracy: 0.8067\n",
      "Epoch 21/100\n",
      "750/750 [==============================] - 0s 45us/sample - loss: 0.5282 - accuracy: 0.8147\n",
      "Epoch 22/100\n",
      "750/750 [==============================] - 0s 44us/sample - loss: 0.5164 - accuracy: 0.8253\n",
      "Epoch 23/100\n",
      "750/750 [==============================] - 0s 44us/sample - loss: 0.5047 - accuracy: 0.8347\n",
      "Epoch 24/100\n",
      "750/750 [==============================] - 0s 47us/sample - loss: 0.4936 - accuracy: 0.8400\n",
      "Epoch 25/100\n",
      "750/750 [==============================] - 0s 43us/sample - loss: 0.4824 - accuracy: 0.8547\n",
      "Epoch 26/100\n",
      "750/750 [==============================] - 0s 45us/sample - loss: 0.4713 - accuracy: 0.8613\n",
      "Epoch 27/100\n",
      "750/750 [==============================] - 0s 47us/sample - loss: 0.4604 - accuracy: 0.8680\n",
      "Epoch 28/100\n",
      "750/750 [==============================] - 0s 44us/sample - loss: 0.4499 - accuracy: 0.8747\n",
      "Epoch 29/100\n",
      "750/750 [==============================] - 0s 56us/sample - loss: 0.4394 - accuracy: 0.8800\n",
      "Epoch 30/100\n",
      "750/750 [==============================] - 0s 51us/sample - loss: 0.4293 - accuracy: 0.8880\n",
      "Epoch 31/100\n",
      "750/750 [==============================] - 0s 57us/sample - loss: 0.4194 - accuracy: 0.8907\n",
      "Epoch 32/100\n",
      "750/750 [==============================] - 0s 56us/sample - loss: 0.4098 - accuracy: 0.8907\n",
      "Epoch 33/100\n",
      "750/750 [==============================] - 0s 49us/sample - loss: 0.4005 - accuracy: 0.8920\n",
      "Epoch 34/100\n",
      "750/750 [==============================] - 0s 48us/sample - loss: 0.3916 - accuracy: 0.8973\n",
      "Epoch 35/100\n",
      "750/750 [==============================] - 0s 54us/sample - loss: 0.3827 - accuracy: 0.9027\n",
      "Epoch 36/100\n",
      "750/750 [==============================] - 0s 53us/sample - loss: 0.3741 - accuracy: 0.9093\n",
      "Epoch 37/100\n",
      "750/750 [==============================] - 0s 53us/sample - loss: 0.3657 - accuracy: 0.9107\n",
      "Epoch 38/100\n",
      "750/750 [==============================] - 0s 53us/sample - loss: 0.3575 - accuracy: 0.9160\n",
      "Epoch 39/100\n",
      "750/750 [==============================] - 0s 51us/sample - loss: 0.3495 - accuracy: 0.9227\n",
      "Epoch 40/100\n",
      "750/750 [==============================] - 0s 49us/sample - loss: 0.3416 - accuracy: 0.9267\n",
      "Epoch 41/100\n",
      "750/750 [==============================] - 0s 52us/sample - loss: 0.3339 - accuracy: 0.9293\n",
      "Epoch 42/100\n",
      "750/750 [==============================] - 0s 44us/sample - loss: 0.3262 - accuracy: 0.9347\n",
      "Epoch 43/100\n",
      "750/750 [==============================] - 0s 45us/sample - loss: 0.3186 - accuracy: 0.9373\n",
      "Epoch 44/100\n",
      "750/750 [==============================] - 0s 47us/sample - loss: 0.3113 - accuracy: 0.9387\n",
      "Epoch 45/100\n",
      "750/750 [==============================] - 0s 44us/sample - loss: 0.3040 - accuracy: 0.9427\n",
      "Epoch 46/100\n",
      "750/750 [==============================] - 0s 42us/sample - loss: 0.2969 - accuracy: 0.9440\n",
      "Epoch 47/100\n",
      "750/750 [==============================] - 0s 43us/sample - loss: 0.2899 - accuracy: 0.9480\n",
      "Epoch 48/100\n",
      "750/750 [==============================] - 0s 42us/sample - loss: 0.2830 - accuracy: 0.9493\n",
      "Epoch 49/100\n",
      "750/750 [==============================] - 0s 43us/sample - loss: 0.2764 - accuracy: 0.9507\n",
      "Epoch 50/100\n",
      "750/750 [==============================] - 0s 41us/sample - loss: 0.2700 - accuracy: 0.9533\n",
      "Epoch 51/100\n",
      "750/750 [==============================] - 0s 44us/sample - loss: 0.2637 - accuracy: 0.9533\n",
      "Epoch 52/100\n",
      "750/750 [==============================] - 0s 42us/sample - loss: 0.2576 - accuracy: 0.9547\n",
      "Epoch 53/100\n",
      "750/750 [==============================] - 0s 42us/sample - loss: 0.2517 - accuracy: 0.9573\n",
      "Epoch 54/100\n",
      "750/750 [==============================] - 0s 48us/sample - loss: 0.2457 - accuracy: 0.9600\n",
      "Epoch 55/100\n",
      "750/750 [==============================] - 0s 41us/sample - loss: 0.2400 - accuracy: 0.9627\n",
      "Epoch 56/100\n",
      "750/750 [==============================] - 0s 41us/sample - loss: 0.2345 - accuracy: 0.9640\n",
      "Epoch 57/100\n",
      "750/750 [==============================] - 0s 41us/sample - loss: 0.2290 - accuracy: 0.9640\n",
      "Epoch 58/100\n",
      "750/750 [==============================] - 0s 41us/sample - loss: 0.2238 - accuracy: 0.9680\n",
      "Epoch 59/100\n",
      "750/750 [==============================] - 0s 61us/sample - loss: 0.2186 - accuracy: 0.9680\n",
      "Epoch 60/100\n",
      "750/750 [==============================] - 0s 48us/sample - loss: 0.2137 - accuracy: 0.9693\n",
      "Epoch 61/100\n",
      "750/750 [==============================] - 0s 45us/sample - loss: 0.2088 - accuracy: 0.9707\n",
      "Epoch 62/100\n",
      "750/750 [==============================] - 0s 51us/sample - loss: 0.2040 - accuracy: 0.9720\n",
      "Epoch 63/100\n",
      "750/750 [==============================] - 0s 61us/sample - loss: 0.1993 - accuracy: 0.9760\n",
      "Epoch 64/100\n",
      "750/750 [==============================] - 0s 49us/sample - loss: 0.1947 - accuracy: 0.9787\n",
      "Epoch 65/100\n",
      "750/750 [==============================] - 0s 41us/sample - loss: 0.1902 - accuracy: 0.9800\n",
      "Epoch 66/100\n",
      "750/750 [==============================] - 0s 55us/sample - loss: 0.1859 - accuracy: 0.9813\n",
      "Epoch 67/100\n",
      "750/750 [==============================] - 0s 39us/sample - loss: 0.1816 - accuracy: 0.9813\n",
      "Epoch 68/100\n",
      "750/750 [==============================] - 0s 32us/sample - loss: 0.1775 - accuracy: 0.9813\n",
      "Epoch 69/100\n",
      "750/750 [==============================] - 0s 39us/sample - loss: 0.1734 - accuracy: 0.9813\n",
      "Epoch 70/100\n",
      "750/750 [==============================] - 0s 39us/sample - loss: 0.1694 - accuracy: 0.9827\n",
      "Epoch 71/100\n",
      "750/750 [==============================] - 0s 43us/sample - loss: 0.1654 - accuracy: 0.9853\n",
      "Epoch 72/100\n",
      "750/750 [==============================] - 0s 43us/sample - loss: 0.1616 - accuracy: 0.9853\n",
      "Epoch 73/100\n",
      "750/750 [==============================] - 0s 40us/sample - loss: 0.1579 - accuracy: 0.9853\n",
      "Epoch 74/100\n",
      "750/750 [==============================] - 0s 44us/sample - loss: 0.1544 - accuracy: 0.9853\n",
      "Epoch 75/100\n",
      "750/750 [==============================] - 0s 43us/sample - loss: 0.1509 - accuracy: 0.9867\n",
      "Epoch 76/100\n",
      "750/750 [==============================] - 0s 39us/sample - loss: 0.1476 - accuracy: 0.9867\n",
      "Epoch 77/100\n",
      "750/750 [==============================] - 0s 43us/sample - loss: 0.1443 - accuracy: 0.9867\n",
      "Epoch 78/100\n"
     ]
    },
    {
     "name": "stdout",
     "output_type": "stream",
     "text": [
      "750/750 [==============================] - 0s 41us/sample - loss: 0.1412 - accuracy: 0.9880\n",
      "Epoch 79/100\n",
      "750/750 [==============================] - 0s 40us/sample - loss: 0.1381 - accuracy: 0.9880\n",
      "Epoch 80/100\n",
      "750/750 [==============================] - 0s 44us/sample - loss: 0.1350 - accuracy: 0.9880\n",
      "Epoch 81/100\n",
      "750/750 [==============================] - 0s 37us/sample - loss: 0.1321 - accuracy: 0.9880\n",
      "Epoch 82/100\n",
      "750/750 [==============================] - 0s 41us/sample - loss: 0.1293 - accuracy: 0.9893\n",
      "Epoch 83/100\n",
      "750/750 [==============================] - 0s 39us/sample - loss: 0.1265 - accuracy: 0.9907\n",
      "Epoch 84/100\n",
      "750/750 [==============================] - 0s 41us/sample - loss: 0.1239 - accuracy: 0.9920\n",
      "Epoch 85/100\n",
      "750/750 [==============================] - 0s 41us/sample - loss: 0.1212 - accuracy: 0.9920\n",
      "Epoch 86/100\n",
      "750/750 [==============================] - 0s 39us/sample - loss: 0.1187 - accuracy: 0.9920\n",
      "Epoch 87/100\n",
      "750/750 [==============================] - 0s 43us/sample - loss: 0.1162 - accuracy: 0.9920\n",
      "Epoch 88/100\n",
      "750/750 [==============================] - 0s 46us/sample - loss: 0.1139 - accuracy: 0.9920\n",
      "Epoch 89/100\n",
      "750/750 [==============================] - 0s 44us/sample - loss: 0.1115 - accuracy: 0.9920\n",
      "Epoch 90/100\n",
      "750/750 [==============================] - 0s 41us/sample - loss: 0.1092 - accuracy: 0.9933\n",
      "Epoch 91/100\n",
      "750/750 [==============================] - 0s 41us/sample - loss: 0.1071 - accuracy: 0.9947\n",
      "Epoch 92/100\n",
      "750/750 [==============================] - 0s 44us/sample - loss: 0.1049 - accuracy: 0.9947\n",
      "Epoch 93/100\n",
      "750/750 [==============================] - 0s 42us/sample - loss: 0.1029 - accuracy: 0.9947\n",
      "Epoch 94/100\n",
      "750/750 [==============================] - 0s 41us/sample - loss: 0.1008 - accuracy: 0.9973\n",
      "Epoch 95/100\n",
      "750/750 [==============================] - 0s 40us/sample - loss: 0.0989 - accuracy: 0.9973\n",
      "Epoch 96/100\n",
      "750/750 [==============================] - 0s 41us/sample - loss: 0.0970 - accuracy: 0.9973\n",
      "Epoch 97/100\n",
      "750/750 [==============================] - 0s 40us/sample - loss: 0.0951 - accuracy: 0.9973\n",
      "Epoch 98/100\n",
      "750/750 [==============================] - 0s 39us/sample - loss: 0.0933 - accuracy: 0.9973\n",
      "Epoch 99/100\n",
      "750/750 [==============================] - 0s 40us/sample - loss: 0.0916 - accuracy: 0.9973\n",
      "Epoch 100/100\n",
      "750/750 [==============================] - 0s 43us/sample - loss: 0.0898 - accuracy: 0.9987\n"
     ]
    }
   ],
   "source": [
    "# Fit the model to the training data\n",
    "fit_model = nn_model.fit(X_train_scaled, y_train, epochs=100)"
   ]
  },
  {
   "cell_type": "code",
   "execution_count": 11,
   "metadata": {},
   "outputs": [
    {
     "data": {
      "text/plain": [
       "<matplotlib.axes._subplots.AxesSubplot at 0x18403d2f388>"
      ]
     },
     "execution_count": 11,
     "metadata": {},
     "output_type": "execute_result"
    },
    {
     "data": {
      "image/png": "[encoded data removed]",
      "text/plain": [
       "<Figure size 432x288 with 1 Axes>"
      ]
     },
     "metadata": {
      "needs_background": "light"
     },
     "output_type": "display_data"
    }
   ],
   "source": [
    "# Create a DataFrame containing training history\n",
    "history_df = pd.DataFrame(fit_model.history, index=range(1,len(fit_model.history[\"loss\"])+1))\n",
    "\n",
    "# Plot the loss\n",
    "history_df.plot(y=\"loss\")"
   ]
  },
  {
   "cell_type": "code",
   "execution_count": 12,
   "metadata": {},
   "outputs": [
    {
     "data": {
      "text/plain": [
       "<matplotlib.axes._subplots.AxesSubplot at 0x18403d16948>"
      ]
     },
     "execution_count": 12,
     "metadata": {},
     "output_type": "execute_result"
    },
    {
     "data": {
      "image/png": "[encoded data removed]",
      "text/plain": [
       "<Figure size 432x288 with 1 Axes>"
      ]
     },
     "metadata": {
      "needs_background": "light"
     },
     "output_type": "display_data"
    }
   ],
   "source": [
    "# Plot the accuracy\n",
    "history_df.plot(y=\"accuracy\")"
   ]
  },
  {
   "cell_type": "code",
   "execution_count": 13,
   "metadata": {},
   "outputs": [
    {
     "name": "stdout",
     "output_type": "stream",
     "text": [
      "250/250 - 0s - loss: 0.0827 - accuracy: 1.0000\n",
      "Loss: 0.08266852819919586, Accuracy: 1.0\n"
     ]
    }
   ],
   "source": [
    "# Evaluate the model using the test data\n",
    "model_loss, model_accuracy = nn_model.evaluate(X_test_scaled,y_test,verbose=2)\n",
    "print(f\"Loss: {model_loss}, Accuracy: {model_accuracy}\")"
   ]
  },
  {
   "cell_type": "code",
   "execution_count": 14,
   "metadata": {},
   "outputs": [
    {
     "data": {
      "text/plain": [
       "array([[0],\n",
       "       [1],\n",
       "       [0],\n",
       "       [1],\n",
       "       [0],\n",
       "       [0],\n",
       "       [1],\n",
       "       [1],\n",
       "       [1],\n",
       "       [0]])"
      ]
     },
     "execution_count": 14,
     "metadata": {},
     "output_type": "execute_result"
    }
   ],
   "source": [
    "# Predict the classification of a new set of blob data\n",
    "new_X, new_Y = make_blobs(n_samples=10, centers=2, n_features=2, random_state=78)\n",
    "new_X_scaled = X_scaler.transform(new_X)\n",
    "nn_model.predict_classes(new_X_scaled)"
   ]
  },
  {
   "cell_type": "code",
   "execution_count": null,
   "metadata": {},
   "outputs": [],
   "source": []
  }
 ],
 "metadata": {
  "kernelspec": {
   "display_name": "PythonData",
   "language": "python",
   "name": "pythondata"
  },
  "language_info": {
   "codemirror_mode": {
    "name": "ipython",
    "version": 3
   },
   "file_extension": ".py",
   "mimetype": "text/x-python",
   "name": "python",
   "nbconvert_exporter": "python",
   "pygments_lexer": "ipython3",
   "version": "3.7.6"
  }
 },
 "nbformat": 4,
 "nbformat_minor": 4
}
