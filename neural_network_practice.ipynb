{
 "cells": [
  {
   "cell_type": "code",
   "execution_count": 1,
   "metadata": {},
   "outputs": [],
   "source": [
    "# Import our dependencies\n",
    "import pandas as pd\n",
    "import matplotlib as plt\n",
    "from sklearn.datasets import make_blobs\n",
    "import sklearn as skl\n",
    "import tensorflow as tf"
   ]
  },
  {
   "cell_type": "code",
   "execution_count": 2,
   "metadata": {},
   "outputs": [
    {
     "data": {
      "text/plain": [
       "<matplotlib.axes._subplots.AxesSubplot at 0x18402182548>"
      ]
     },
     "execution_count": 2,
     "metadata": {},
     "output_type": "execute_result"
    },
    {
     "data": {
      "image/png": "[encoded data removed]",
      "text/plain": [
       "<Figure size 432x288 with 2 Axes>"
      ]
     },
     "metadata": {
      "needs_background": "light"
     },
     "output_type": "display_data"
    }
   ],
   "source": [
    "# Generate dummy dataset\n",
    "X, y = make_blobs(n_samples=1000, centers=2, n_features=2, random_state=78)\n",
    "\n",
    "# Creating a DataFrame with the dummy data\n",
    "df = pd.DataFrame(X, columns=[\"Feature 1\", \"Feature 2\"])\n",
    "df[\"Target\"] = y\n",
    "\n",
    "# Plotting the dummy data\n",
    "df.plot.scatter(x=\"Feature 1\", y=\"Feature 2\", c=\"Target\", colormap=\"winter\")"
   ]
  },
  {
   "cell_type": "code",
   "execution_count": 3,
   "metadata": {},
   "outputs": [],
   "source": [
    "# Use sklearn to split dataset\n",
    "from sklearn.model_selection import train_test_split\n",
    "X_train, X_test, y_train, y_test = train_test_split(X, y, random_state=78)"
   ]
  },
  {
   "cell_type": "code",
   "execution_count": 4,
   "metadata": {},
   "outputs": [],
   "source": [
    "# Create scaler instance\n",
    "X_scaler = skl.preprocessing.StandardScaler()\n",
    "\n",
    "# Fit the scaler\n",
    "X_scaler.fit(X_train)\n",
    "\n",
    "# Scale the data\n",
    "X_train_scaled = X_scaler.transform(X_train)\n",
    "X_test_scaled = X_scaler.transform(X_test)"
   ]
  },
  {
   "cell_type": "code",
   "execution_count": 5,
   "metadata": {},
   "outputs": [],
   "source": [
    "# Create the Keras Sequential model\n",
    "nn_model = tf.keras.models.Sequential()"
   ]
  },
  {
   "cell_type": "code",
   "execution_count": 6,
   "metadata": {},
   "outputs": [],
   "source": [
    "# Add our first Dense layer, including the input layer\n",
    "nn_model.add(tf.keras.layers.Dense(units=1, activation=\"relu\", input_dim=2))"
   ]
  },
  {
   "cell_type": "code",
   "execution_count": 7,
   "metadata": {},
   "outputs": [],
   "source": [
    "# Add the output layer that uses a probability activation function\n",
    "nn_model.add(tf.keras.layers.Dense(units=1, activation=\"sigmoid\"))"
   ]
  },
  {
   "cell_type": "code",
   "execution_count": 8,
   "metadata": {},
   "outputs": [
    {
     "name": "stdout",
     "output_type": "stream",
     "text": [
      "Model: \"sequential\"\n",
      "_________________________________________________________________\n",
      "Layer (type)                 Output Shape              Param #   \n",
      "=================================================================\n",
      "dense (Dense)                (None, 1)                 3         \n",
      "_________________________________________________________________\n",
      "dense_1 (Dense)              (None, 1)                 2         \n",
      "=================================================================\n",
      "Total params: 5\n",
      "Trainable params: 5\n",
      "Non-trainable params: 0\n",
      "_________________________________________________________________\n"
     ]
    }
   ],
   "source": [
    "# Check the structure of the Sequential model\n",
    "nn_model.summary()"
   ]
  },
  {
   "cell_type": "code",
   "execution_count": 9,
   "metadata": {},
   "outputs": [],
   "source": [
    "# Compile the Sequential model together and customize metrics\n",
    "nn_model.compile(loss=\"binary_crossentropy\", optimizer=\"adam\", metrics=[\"accuracy\"])"
   ]
  },
  {
   "cell_type": "code",
   "execution_count": 10,
   "metadata": {},
   "outputs": [
    {
     "name": "stdout",
     "output_type": "stream",
     "text": [
      "Train on 750 samples\n",
      "Epoch 1/100\n",
      "750/750 [==============================] - 1s 1ms/sample - loss: 0.7078 - accuracy: 0.4787\n",
      "Epoch 2/100\n",
      "750/750 [==============================] - 0s 52us/sample - loss: 0.6991 - accuracy: 0.5107\n",
      "Epoch 3/100\n",
      "750/750 [==============================] - 0s 43us/sample - loss: 0.6916 - accuracy: 0.5280\n",
      "Epoch 4/100\n",
      "750/750 [==============================] - 0s 48us/sample - loss: 0.6844 - accuracy: 0.5600\n",
      "Epoch 5/100\n",
      "750/750 [==============================] - 0s 63us/sample - loss: 0.6779 - accuracy: 0.5827\n",
      "Epoch 6/100\n",
      "750/750 [==============================] - 0s 57us/sample - loss: 0.6715 - accuracy: 0.6013\n",
      "Epoch 7/100\n",
      "750/750 [==============================] - 0s 56us/sample - loss: 0.6649 - accuracy: 0.6173\n",
      "Epoch 8/100\n",
      "750/750 [==============================] - 0s 49us/sample - loss: 0.6581 - accuracy: 0.6440\n",
      "Epoch 9/100\n",
      "750/750 [==============================] - 0s 56us/sample - loss: 0.6510 - accuracy: 0.6480\n",
      "Epoch 10/100\n",
      "750/750 [==============================] - 0s 52us/sample - loss: 0.6434 - accuracy: 0.6720\n",
      "Epoch 11/100\n",
      "750/750 [==============================] - 0s 52us/sample - loss: 0.6351 - accuracy: 0.6867\n",
      "Epoch 12/100\n",
      "750/750 [==============================] - 0s 52us/sample - loss: 0.6262 - accuracy: 0.7013\n",
      "Epoch 13/100\n",
      "750/750 [==============================] - 0s 41us/sample - loss: 0.6169 - accuracy: 0.7120\n",
      "Epoch 14/100\n",
      "750/750 [==============================] - 0s 39us/sample - loss: 0.6071 - accuracy: 0.7280\n",
      "Epoch 15/100\n",
      "750/750 [==============================] - 0s 40us/sample - loss: 0.5964 - accuracy: 0.7413\n",
      "Epoch 16/100\n",
      "750/750 [==============================] - 0s 52us/sample - loss: 0.5857 - accuracy: 0.7560\n",
      "Epoch 17/100\n",
      "750/750 [==============================] - 0s 44us/sample - loss: 0.5742 - accuracy: 0.7707\n",
      "Epoch 18/100\n",
      "750/750 [==============================] - 0s 53us/sample - loss: 0.5628 - accuracy: 0.7827\n",
      "Epoch 19/100\n",
      "750/750 [==============================] - 0s 50us/sample - loss: 0.5512 - accuracy: 0.7947\n",
      "Epoch 20/100\n",
      "750/750 [==============================] - 0s 45us/sample - loss: 0.5398 - accuracy: 0.8067\n",
      "Epoch 21/100\n",
      "750/750 [==============================] - 0s 45us/sample - loss: 0.5282 - accuracy: 0.8147\n",
      "Epoch 22/100\n",
      "750/750 [==============================] - 0s 44us/sample - loss: 0.5164 - accuracy: 0.8253\n",
      "Epoch 23/100\n",
      "750/750 [==============================] - 0s 44us/sample - loss: 0.5047 - accuracy: 0.8347\n",
      "Epoch 24/100\n",
      "750/750 [==============================] - 0s 47us/sample - loss: 0.4936 - accuracy: 0.8400\n",
      "Epoch 25/100\n",
      "750/750 [==============================] - 0s 43us/sample - loss: 0.4824 - accuracy: 0.8547\n",
      "Epoch 26/100\n",
      "750/750 [==============================] - 0s 45us/sample - loss: 0.4713 - accuracy: 0.8613\n",
      "Epoch 27/100\n",
      "750/750 [==============================] - 0s 47us/sample - loss: 0.4604 - accuracy: 0.8680\n",
      "Epoch 28/100\n",
      "750/750 [==============================] - 0s 44us/sample - loss: 0.4499 - accuracy: 0.8747\n",
      "Epoch 29/100\n",
      "750/750 [==============================] - 0s 56us/sample - loss: 0.4394 - accuracy: 0.8800\n",
      "Epoch 30/100\n",
      "750/750 [==============================] - 0s 51us/sample - loss: 0.4293 - accuracy: 0.8880\n",
      "Epoch 31/100\n",
      "750/750 [==============================] - 0s 57us/sample - loss: 0.4194 - accuracy: 0.8907\n",
      "Epoch 32/100\n",
      "750/750 [==============================] - 0s 56us/sample - loss: 0.4098 - accuracy: 0.8907\n",
      "Epoch 33/100\n",
      "750/750 [==============================] - 0s 49us/sample - loss: 0.4005 - accuracy: 0.8920\n",
      "Epoch 34/100\n",
      "750/750 [==============================] - 0s 48us/sample - loss: 0.3916 - accuracy: 0.8973\n",
      "Epoch 35/100\n",
      "750/750 [==============================] - 0s 54us/sample - loss: 0.3827 - accuracy: 0.9027\n",
      "Epoch 36/100\n",
      "750/750 [==============================] - 0s 53us/sample - loss: 0.3741 - accuracy: 0.9093\n",
      "Epoch 37/100\n",
      "750/750 [==============================] - 0s 53us/sample - loss: 0.3657 - accuracy: 0.9107\n",
      "Epoch 38/100\n",
      "750/750 [==============================] - 0s 53us/sample - loss: 0.3575 - accuracy: 0.9160\n",
      "Epoch 39/100\n",
      "750/750 [==============================] - 0s 51us/sample - loss: 0.3495 - accuracy: 0.9227\n",
      "Epoch 40/100\n",
      "750/750 [==============================] - 0s 49us/sample - loss: 0.3416 - accuracy: 0.9267\n",
      "Epoch 41/100\n",
      "750/750 [==============================] - 0s 52us/sample - loss: 0.3339 - accuracy: 0.9293\n",
      "Epoch 42/100\n",
      "750/750 [==============================] - 0s 44us/sample - loss: 0.3262 - accuracy: 0.9347\n",
      "Epoch 43/100\n",
      "750/750 [==============================] - 0s 45us/sample - loss: 0.3186 - accuracy: 0.9373\n",
      "Epoch 44/100\n",
      "750/750 [==============================] - 0s 47us/sample - loss: 0.3113 - accuracy: 0.9387\n",
      "Epoch 45/100\n",
      "750/750 [==============================] - 0s 44us/sample - loss: 0.3040 - accuracy: 0.9427\n",
      "Epoch 46/100\n",
      "750/750 [==============================] - 0s 42us/sample - loss: 0.2969 - accuracy: 0.9440\n",
      "Epoch 47/100\n",
      "750/750 [==============================] - 0s 43us/sample - loss: 0.2899 - accuracy: 0.9480\n",
      "Epoch 48/100\n",
      "750/750 [==============================] - 0s 42us/sample - loss: 0.2830 - accuracy: 0.9493\n",
      "Epoch 49/100\n",
      "750/750 [==============================] - 0s 43us/sample - loss: 0.2764 - accuracy: 0.9507\n",
      "Epoch 50/100\n",
      "750/750 [==============================] - 0s 41us/sample - loss: 0.2700 - accuracy: 0.9533\n",
      "Epoch 51/100\n",
      "750/750 [==============================] - 0s 44us/sample - loss: 0.2637 - accuracy: 0.9533\n",
      "Epoch 52/100\n",
      "750/750 [==============================] - 0s 42us/sample - loss: 0.2576 - accuracy: 0.9547\n",
      "Epoch 53/100\n",
      "750/750 [==============================] - 0s 42us/sample - loss: 0.2517 - accuracy: 0.9573\n",
      "Epoch 54/100\n",
      "750/750 [==============================] - 0s 48us/sample - loss: 0.2457 - accuracy: 0.9600\n",
      "Epoch 55/100\n",
      "750/750 [==============================] - 0s 41us/sample - loss: 0.2400 - accuracy: 0.9627\n",
      "Epoch 56/100\n",
      "750/750 [==============================] - 0s 41us/sample - loss: 0.2345 - accuracy: 0.9640\n",
      "Epoch 57/100\n",
      "750/750 [==============================] - 0s 41us/sample - loss: 0.2290 - accuracy: 0.9640\n",
      "Epoch 58/100\n",
      "750/750 [==============================] - 0s 41us/sample - loss: 0.2238 - accuracy: 0.9680\n",
      "Epoch 59/100\n",
      "750/750 [==============================] - 0s 61us/sample - loss: 0.2186 - accuracy: 0.9680\n",
      "Epoch 60/100\n",
      "750/750 [==============================] - 0s 48us/sample - loss: 0.2137 - accuracy: 0.9693\n",
      "Epoch 61/100\n",
      "750/750 [==============================] - 0s 45us/sample - loss: 0.2088 - accuracy: 0.9707\n",
      "Epoch 62/100\n",
      "750/750 [==============================] - 0s 51us/sample - loss: 0.2040 - accuracy: 0.9720\n",
      "Epoch 63/100\n",
      "750/750 [==============================] - 0s 61us/sample - loss: 0.1993 - accuracy: 0.9760\n",
      "Epoch 64/100\n",
      "750/750 [==============================] - 0s 49us/sample - loss: 0.1947 - accuracy: 0.9787\n",
      "Epoch 65/100\n",
      "750/750 [==============================] - 0s 41us/sample - loss: 0.1902 - accuracy: 0.9800\n",
      "Epoch 66/100\n",
      "750/750 [==============================] - 0s 55us/sample - loss: 0.1859 - accuracy: 0.9813\n",
      "Epoch 67/100\n",
      "750/750 [==============================] - 0s 39us/sample - loss: 0.1816 - accuracy: 0.9813\n",
      "Epoch 68/100\n",
      "750/750 [==============================] - 0s 32us/sample - loss: 0.1775 - accuracy: 0.9813\n",
      "Epoch 69/100\n",
      "750/750 [==============================] - 0s 39us/sample - loss: 0.1734 - accuracy: 0.9813\n",
      "Epoch 70/100\n",
      "750/750 [==============================] - 0s 39us/sample - loss: 0.1694 - accuracy: 0.9827\n",
      "Epoch 71/100\n",
      "750/750 [==============================] - 0s 43us/sample - loss: 0.1654 - accuracy: 0.9853\n",
      "Epoch 72/100\n",
      "750/750 [==============================] - 0s 43us/sample - loss: 0.1616 - accuracy: 0.9853\n",
      "Epoch 73/100\n",
      "750/750 [==============================] - 0s 40us/sample - loss: 0.1579 - accuracy: 0.9853\n",
      "Epoch 74/100\n",
      "750/750 [==============================] - 0s 44us/sample - loss: 0.1544 - accuracy: 0.9853\n",
      "Epoch 75/100\n",
      "750/750 [==============================] - 0s 43us/sample - loss: 0.1509 - accuracy: 0.9867\n",
      "Epoch 76/100\n",
      "750/750 [==============================] - 0s 39us/sample - loss: 0.1476 - accuracy: 0.9867\n",
      "Epoch 77/100\n",
      "750/750 [==============================] - 0s 43us/sample - loss: 0.1443 - accuracy: 0.9867\n",
      "Epoch 78/100\n"
     ]
    },
    {
     "name": "stdout",
     "output_type": "stream",
     "text": [
      "750/750 [==============================] - 0s 41us/sample - loss: 0.1412 - accuracy: 0.9880\n",
      "Epoch 79/100\n",
      "750/750 [==============================] - 0s 40us/sample - loss: 0.1381 - accuracy: 0.9880\n",
      "Epoch 80/100\n",
      "750/750 [==============================] - 0s 44us/sample - loss: 0.1350 - accuracy: 0.9880\n",
      "Epoch 81/100\n",
      "750/750 [==============================] - 0s 37us/sample - loss: 0.1321 - accuracy: 0.9880\n",
      "Epoch 82/100\n",
      "750/750 [==============================] - 0s 41us/sample - loss: 0.1293 - accuracy: 0.9893\n",
      "Epoch 83/100\n",
      "750/750 [==============================] - 0s 39us/sample - loss: 0.1265 - accuracy: 0.9907\n",
      "Epoch 84/100\n",
      "750/750 [==============================] - 0s 41us/sample - loss: 0.1239 - accuracy: 0.9920\n",
      "Epoch 85/100\n",
      "750/750 [==============================] - 0s 41us/sample - loss: 0.1212 - accuracy: 0.9920\n",
      "Epoch 86/100\n",
      "750/750 [==============================] - 0s 39us/sample - loss: 0.1187 - accuracy: 0.9920\n",
      "Epoch 87/100\n",
      "750/750 [==============================] - 0s 43us/sample - loss: 0.1162 - accuracy: 0.9920\n",
      "Epoch 88/100\n",
      "750/750 [==============================] - 0s 46us/sample - loss: 0.1139 - accuracy: 0.9920\n",
      "Epoch 89/100\n",
      "750/750 [==============================] - 0s 44us/sample - loss: 0.1115 - accuracy: 0.9920\n",
      "Epoch 90/100\n",
      "750/750 [==============================] - 0s 41us/sample - loss: 0.1092 - accuracy: 0.9933\n",
      "Epoch 91/100\n",
      "750/750 [==============================] - 0s 41us/sample - loss: 0.1071 - accuracy: 0.9947\n",
      "Epoch 92/100\n",
      "750/750 [==============================] - 0s 44us/sample - loss: 0.1049 - accuracy: 0.9947\n",
      "Epoch 93/100\n",
      "750/750 [==============================] - 0s 42us/sample - loss: 0.1029 - accuracy: 0.9947\n",
      "Epoch 94/100\n",
      "750/750 [==============================] - 0s 41us/sample - loss: 0.1008 - accuracy: 0.9973\n",
      "Epoch 95/100\n",
      "750/750 [==============================] - 0s 40us/sample - loss: 0.0989 - accuracy: 0.9973\n",
      "Epoch 96/100\n",
      "750/750 [==============================] - 0s 41us/sample - loss: 0.0970 - accuracy: 0.9973\n",
      "Epoch 97/100\n",
      "750/750 [==============================] - 0s 40us/sample - loss: 0.0951 - accuracy: 0.9973\n",
      "Epoch 98/100\n",
      "750/750 [==============================] - 0s 39us/sample - loss: 0.0933 - accuracy: 0.9973\n",
      "Epoch 99/100\n",
      "750/750 [==============================] - 0s 40us/sample - loss: 0.0916 - accuracy: 0.9973\n",
      "Epoch 100/100\n",
      "750/750 [==============================] - 0s 43us/sample - loss: 0.0898 - accuracy: 0.9987\n"
     ]
    }
   ],
   "source": [
    "# Fit the model to the training data\n",
    "fit_model = nn_model.fit(X_train_scaled, y_train, epochs=100)"
   ]
  },
  {
   "cell_type": "code",
   "execution_count": 11,
   "metadata": {},
   "outputs": [
    {
     "data": {
      "text/plain": [
       "<matplotlib.axes._subplots.AxesSubplot at 0x18403d2f388>"
      ]
     },
     "execution_count": 11,
     "metadata": {},
     "output_type": "execute_result"
    },
    {
     "data": {
      "image/png": "[encoded data removed]",
      "text/plain": [
       "<Figure size 432x288 with 1 Axes>"
      ]
     },
     "metadata": {
      "needs_background": "light"
     },
     "output_type": "display_data"
    }
   ],
   "source": [
    "# Create a DataFrame containing training history\n",
    "history_df = pd.DataFrame(fit_model.history, index=range(1,len(fit_model.history[\"loss\"])+1))\n",
    "\n",
    "# Plot the loss\n",
    "history_df.plot(y=\"loss\")"
   ]
  },
  {
   "cell_type": "code",
   "execution_count": 12,
   "metadata": {},
   "outputs": [
    {
     "data": {
      "text/plain": [
       "<matplotlib.axes._subplots.AxesSubplot at 0x18403d16948>"
      ]
     },
     "execution_count": 12,
     "metadata": {},
     "output_type": "execute_result"
    },
    {
     "data": {
      "image/png": "[encoded data removed]",
      "text/plain": [
       "<Figure size 432x288 with 1 Axes>"
      ]
     },
     "metadata": {
      "needs_background": "light"
     },
     "output_type": "display_data"
    }
   ],
   "source": [
    "# Plot the accuracy\n",
    "history_df.plot(y=\"accuracy\")"
   ]
  },
  {
   "cell_type": "code",
   "execution_count": 13,
   "metadata": {},
   "outputs": [
    {
     "name": "stdout",
     "output_type": "stream",
     "text": [
      "250/250 - 0s - loss: 0.0827 - accuracy: 1.0000\n",
      "Loss: 0.08266852819919586, Accuracy: 1.0\n"
     ]
    }
   ],
   "source": [
    "# Evaluate the model using the test data\n",
    "model_loss, model_accuracy = nn_model.evaluate(X_test_scaled,y_test,verbose=2)\n",
    "print(f\"Loss: {model_loss}, Accuracy: {model_accuracy}\")"
   ]
  },
  {
   "cell_type": "code",
   "execution_count": 14,
   "metadata": {},
   "outputs": [
    {
     "data": {
      "text/plain": [
       "array([[0],\n",
       "       [1],\n",
       "       [0],\n",
       "       [1],\n",
       "       [0],\n",
       "       [0],\n",
       "       [1],\n",
       "       [1],\n",
       "       [1],\n",
       "       [0]])"
      ]
     },
     "execution_count": 14,
     "metadata": {},
     "output_type": "execute_result"
    }
   ],
   "source": [
    "# Predict the classification of a new set of blob data\n",
    "new_X, new_Y = make_blobs(n_samples=10, centers=2, n_features=2, random_state=78)\n",
    "new_X_scaled = X_scaler.transform(new_X)\n",
    "nn_model.predict_classes(new_X_scaled)"
   ]
  },
  {
   "cell_type": "code",
   "execution_count": 15,
   "metadata": {},
   "outputs": [
    {
     "data": {
      "text/plain": [
       "<matplotlib.axes._subplots.AxesSubplot at 0x18403e56c08>"
      ]
     },
     "execution_count": 15,
     "metadata": {},
     "output_type": "execute_result"
    },
    {
     "data": {
      "image/png": "[encoded data removed]",
      "text/plain": [
       "<Figure size 432x288 with 2 Axes>"
      ]
     },
     "metadata": {
      "needs_background": "light"
     },
     "output_type": "display_data"
    }
   ],
   "source": [
    "from sklearn.datasets import make_moons\n",
    "\n",
    "# Creating dummy nonlinear data\n",
    "X_moons, y_moons = make_moons(n_samples=1000, noise=0.08, random_state=78)\n",
    "\n",
    "# Transforming y_moons to a vertical vector\n",
    "y_moons = y_moons.reshape(-1, 1)\n",
    "\n",
    "# Creating a DataFrame to plot the nonlinear dummy data\n",
    "df_moons = pd.DataFrame(X_moons, columns=[\"Feature 1\", \"Feature 2\"])\n",
    "df_moons[\"Target\"] = y_moons\n",
    "\n",
    "# Plot the nonlinear dummy data\n",
    "df_moons.plot.scatter(x=\"Feature 1\",y=\"Feature 2\", c=\"Target\",colormap=\"winter\")\n"
   ]
  },
  {
   "cell_type": "code",
   "execution_count": 17,
   "metadata": {},
   "outputs": [],
   "source": [
    "# Create training and testing sets\n",
    "X_moon_train, X_moon_test, y_moon_train, y_moon_test = train_test_split(\n",
    "    X_moons, y_moons, random_state=78\n",
    ")\n",
    "\n",
    "# Create the scaler instance\n",
    "X_moon_scaler = skl.preprocessing.StandardScaler()\n",
    "\n",
    "# Fit the scaler\n",
    "X_moon_scaler.fit(X_moon_train)\n",
    "\n",
    "# Scale the data\n",
    "X_moon_train_scaled = X_moon_scaler.transform(X_moon_train)\n",
    "X_moon_test_scaled = X_moon_scaler.transform(X_moon_test)"
   ]
  },
  {
   "cell_type": "code",
   "execution_count": 18,
   "metadata": {},
   "outputs": [
    {
     "name": "stdout",
     "output_type": "stream",
     "text": [
      "Train on 750 samples\n",
      "Epoch 1/100\n",
      "750/750 [==============================] - 0s 549us/sample - loss: 1.3553 - accuracy: 0.3653\n",
      "Epoch 2/100\n",
      "750/750 [==============================] - 0s 61us/sample - loss: 1.1585 - accuracy: 0.3947\n",
      "Epoch 3/100\n",
      "750/750 [==============================] - 0s 41us/sample - loss: 1.0364 - accuracy: 0.4240\n",
      "Epoch 4/100\n",
      "750/750 [==============================] - 0s 55us/sample - loss: 0.9559 - accuracy: 0.4480\n",
      "Epoch 5/100\n",
      "750/750 [==============================] - 0s 48us/sample - loss: 0.9005 - accuracy: 0.4720\n",
      "Epoch 6/100\n",
      "750/750 [==============================] - 0s 48us/sample - loss: 0.8570 - accuracy: 0.4893\n",
      "Epoch 7/100\n",
      "750/750 [==============================] - 0s 49us/sample - loss: 0.8213 - accuracy: 0.5200\n",
      "Epoch 8/100\n",
      "750/750 [==============================] - 0s 49us/sample - loss: 0.7909 - accuracy: 0.5387\n",
      "Epoch 9/100\n",
      "750/750 [==============================] - 0s 47us/sample - loss: 0.7631 - accuracy: 0.5560\n",
      "Epoch 10/100\n",
      "750/750 [==============================] - 0s 47us/sample - loss: 0.7396 - accuracy: 0.5720\n",
      "Epoch 11/100\n",
      "750/750 [==============================] - 0s 49us/sample - loss: 0.7182 - accuracy: 0.5827\n",
      "Epoch 12/100\n",
      "750/750 [==============================] - 0s 47us/sample - loss: 0.6995 - accuracy: 0.5933\n",
      "Epoch 13/100\n",
      "750/750 [==============================] - 0s 52us/sample - loss: 0.6822 - accuracy: 0.6067\n",
      "Epoch 14/100\n",
      "750/750 [==============================] - 0s 48us/sample - loss: 0.6658 - accuracy: 0.6240\n",
      "Epoch 15/100\n",
      "750/750 [==============================] - 0s 48us/sample - loss: 0.6508 - accuracy: 0.6320\n",
      "Epoch 16/100\n",
      "750/750 [==============================] - ETA: 0s - loss: 0.4401 - accuracy: 0.78 - 0s 49us/sample - loss: 0.6364 - accuracy: 0.6373\n",
      "Epoch 17/100\n",
      "750/750 [==============================] - ETA: 0s - loss: 0.3638 - accuracy: 0.81 - 0s 45us/sample - loss: 0.6236 - accuracy: 0.6440\n",
      "Epoch 18/100\n",
      "750/750 [==============================] - 0s 44us/sample - loss: 0.6115 - accuracy: 0.6507\n",
      "Epoch 19/100\n",
      "750/750 [==============================] - 0s 56us/sample - loss: 0.6002 - accuracy: 0.6560\n",
      "Epoch 20/100\n",
      "750/750 [==============================] - 0s 52us/sample - loss: 0.5896 - accuracy: 0.6613\n",
      "Epoch 21/100\n",
      "750/750 [==============================] - 0s 52us/sample - loss: 0.5791 - accuracy: 0.6627\n",
      "Epoch 22/100\n",
      "750/750 [==============================] - 0s 47us/sample - loss: 0.5693 - accuracy: 0.6693\n",
      "Epoch 23/100\n",
      "750/750 [==============================] - 0s 44us/sample - loss: 0.5602 - accuracy: 0.6787\n",
      "Epoch 24/100\n",
      "750/750 [==============================] - 0s 44us/sample - loss: 0.5511 - accuracy: 0.6907\n",
      "Epoch 25/100\n",
      "750/750 [==============================] - 0s 44us/sample - loss: 0.5425 - accuracy: 0.6960\n",
      "Epoch 26/100\n",
      "750/750 [==============================] - 0s 45us/sample - loss: 0.5343 - accuracy: 0.7040\n",
      "Epoch 27/100\n",
      "750/750 [==============================] - 0s 49us/sample - loss: 0.5264 - accuracy: 0.7120\n",
      "Epoch 28/100\n",
      "750/750 [==============================] - 0s 55us/sample - loss: 0.5185 - accuracy: 0.7173\n",
      "Epoch 29/100\n",
      "750/750 [==============================] - 0s 53us/sample - loss: 0.5111 - accuracy: 0.7187\n",
      "Epoch 30/100\n",
      "750/750 [==============================] - 0s 61us/sample - loss: 0.5038 - accuracy: 0.7227\n",
      "Epoch 31/100\n",
      "750/750 [==============================] - 0s 57us/sample - loss: 0.4965 - accuracy: 0.7253\n",
      "Epoch 32/100\n",
      "750/750 [==============================] - 0s 52us/sample - loss: 0.4896 - accuracy: 0.7280\n",
      "Epoch 33/100\n",
      "750/750 [==============================] - 0s 53us/sample - loss: 0.4824 - accuracy: 0.7320\n",
      "Epoch 34/100\n",
      "750/750 [==============================] - 0s 51us/sample - loss: 0.4752 - accuracy: 0.7373\n",
      "Epoch 35/100\n",
      "750/750 [==============================] - 0s 53us/sample - loss: 0.4684 - accuracy: 0.7440\n",
      "Epoch 36/100\n",
      "750/750 [==============================] - 0s 52us/sample - loss: 0.4619 - accuracy: 0.7493\n",
      "Epoch 37/100\n",
      "750/750 [==============================] - 0s 49us/sample - loss: 0.4556 - accuracy: 0.7520\n",
      "Epoch 38/100\n",
      "750/750 [==============================] - 0s 45us/sample - loss: 0.4492 - accuracy: 0.7573\n",
      "Epoch 39/100\n",
      "750/750 [==============================] - 0s 43us/sample - loss: 0.4430 - accuracy: 0.7640\n",
      "Epoch 40/100\n",
      "750/750 [==============================] - 0s 43us/sample - loss: 0.4366 - accuracy: 0.7653\n",
      "Epoch 41/100\n",
      "750/750 [==============================] - 0s 41us/sample - loss: 0.4304 - accuracy: 0.7667\n",
      "Epoch 42/100\n",
      "750/750 [==============================] - 0s 43us/sample - loss: 0.4245 - accuracy: 0.7720\n",
      "Epoch 43/100\n",
      "750/750 [==============================] - 0s 41us/sample - loss: 0.4187 - accuracy: 0.7773\n",
      "Epoch 44/100\n",
      "750/750 [==============================] - 0s 43us/sample - loss: 0.4129 - accuracy: 0.7827\n",
      "Epoch 45/100\n",
      "750/750 [==============================] - 0s 41us/sample - loss: 0.4074 - accuracy: 0.7960\n",
      "Epoch 46/100\n",
      "750/750 [==============================] - 0s 45us/sample - loss: 0.4018 - accuracy: 0.8027\n",
      "Epoch 47/100\n",
      "750/750 [==============================] - 0s 41us/sample - loss: 0.3964 - accuracy: 0.8053\n",
      "Epoch 48/100\n",
      "750/750 [==============================] - 0s 42us/sample - loss: 0.3911 - accuracy: 0.8067\n",
      "Epoch 49/100\n",
      "750/750 [==============================] - 0s 43us/sample - loss: 0.3860 - accuracy: 0.8080\n",
      "Epoch 50/100\n",
      "750/750 [==============================] - 0s 43us/sample - loss: 0.3809 - accuracy: 0.8107\n",
      "Epoch 51/100\n",
      "750/750 [==============================] - 0s 43us/sample - loss: 0.3759 - accuracy: 0.8133\n",
      "Epoch 52/100\n",
      "750/750 [==============================] - 0s 49us/sample - loss: 0.3710 - accuracy: 0.8173\n",
      "Epoch 53/100\n",
      "750/750 [==============================] - 0s 51us/sample - loss: 0.3662 - accuracy: 0.8200\n",
      "Epoch 54/100\n",
      "750/750 [==============================] - 0s 39us/sample - loss: 0.3616 - accuracy: 0.8213\n",
      "Epoch 55/100\n",
      "750/750 [==============================] - 0s 49us/sample - loss: 0.3569 - accuracy: 0.8253\n",
      "Epoch 56/100\n",
      "750/750 [==============================] - 0s 39us/sample - loss: 0.3523 - accuracy: 0.8267\n",
      "Epoch 57/100\n",
      "750/750 [==============================] - 0s 41us/sample - loss: 0.3478 - accuracy: 0.8307\n",
      "Epoch 58/100\n",
      "750/750 [==============================] - 0s 43us/sample - loss: 0.3436 - accuracy: 0.8347\n",
      "Epoch 59/100\n",
      "750/750 [==============================] - 0s 36us/sample - loss: 0.3394 - accuracy: 0.8373\n",
      "Epoch 60/100\n",
      "750/750 [==============================] - 0s 44us/sample - loss: 0.3355 - accuracy: 0.8413\n",
      "Epoch 61/100\n",
      "750/750 [==============================] - 0s 40us/sample - loss: 0.3318 - accuracy: 0.8467\n",
      "Epoch 62/100\n",
      "750/750 [==============================] - 0s 41us/sample - loss: 0.3285 - accuracy: 0.8493\n",
      "Epoch 63/100\n",
      "750/750 [==============================] - 0s 44us/sample - loss: 0.3253 - accuracy: 0.8520\n",
      "Epoch 64/100\n",
      "750/750 [==============================] - 0s 40us/sample - loss: 0.3224 - accuracy: 0.8547\n",
      "Epoch 65/100\n",
      "750/750 [==============================] - 0s 44us/sample - loss: 0.3197 - accuracy: 0.8573\n",
      "Epoch 66/100\n",
      "750/750 [==============================] - 0s 41us/sample - loss: 0.3170 - accuracy: 0.8600\n",
      "Epoch 67/100\n",
      "750/750 [==============================] - 0s 41us/sample - loss: 0.3147 - accuracy: 0.8640\n",
      "Epoch 68/100\n",
      "750/750 [==============================] - 0s 41us/sample - loss: 0.3124 - accuracy: 0.8653\n",
      "Epoch 69/100\n",
      "750/750 [==============================] - 0s 41us/sample - loss: 0.3102 - accuracy: 0.8680\n",
      "Epoch 70/100\n",
      "750/750 [==============================] - 0s 46us/sample - loss: 0.3083 - accuracy: 0.8680\n",
      "Epoch 71/100\n",
      "750/750 [==============================] - ETA: 0s - loss: 0.2589 - accuracy: 0.90 - 0s 43us/sample - loss: 0.3064 - accuracy: 0.8693\n",
      "Epoch 72/100\n",
      "750/750 [==============================] - 0s 49us/sample - loss: 0.3047 - accuracy: 0.8707\n",
      "Epoch 73/100\n",
      "750/750 [==============================] - 0s 44us/sample - loss: 0.3031 - accuracy: 0.8707\n",
      "Epoch 74/100\n",
      "750/750 [==============================] - 0s 43us/sample - loss: 0.3015 - accuracy: 0.8707\n",
      "Epoch 75/100\n",
      "750/750 [==============================] - 0s 40us/sample - loss: 0.3000 - accuracy: 0.8720\n",
      "Epoch 76/100\n",
      "750/750 [==============================] - 0s 45us/sample - loss: 0.2986 - accuracy: 0.8733\n",
      "Epoch 77/100\n"
     ]
    },
    {
     "name": "stdout",
     "output_type": "stream",
     "text": [
      "750/750 [==============================] - 0s 44us/sample - loss: 0.2971 - accuracy: 0.8733\n",
      "Epoch 78/100\n",
      "750/750 [==============================] - 0s 41us/sample - loss: 0.2958 - accuracy: 0.8733\n",
      "Epoch 79/100\n",
      "750/750 [==============================] - 0s 41us/sample - loss: 0.2945 - accuracy: 0.8733\n",
      "Epoch 80/100\n",
      "750/750 [==============================] - 0s 40us/sample - loss: 0.2933 - accuracy: 0.8747\n",
      "Epoch 81/100\n",
      "750/750 [==============================] - ETA: 0s - loss: 0.2964 - accuracy: 0.87 - 0s 43us/sample - loss: 0.2922 - accuracy: 0.8760\n",
      "Epoch 82/100\n",
      "750/750 [==============================] - 0s 40us/sample - loss: 0.2910 - accuracy: 0.8787\n",
      "Epoch 83/100\n",
      "750/750 [==============================] - ETA: 0s - loss: 0.2144 - accuracy: 0.96 - 0s 39us/sample - loss: 0.2899 - accuracy: 0.8800\n",
      "Epoch 84/100\n",
      "750/750 [==============================] - 0s 41us/sample - loss: 0.2889 - accuracy: 0.8813\n",
      "Epoch 85/100\n",
      "750/750 [==============================] - 0s 39us/sample - loss: 0.2879 - accuracy: 0.8813\n",
      "Epoch 86/100\n",
      "750/750 [==============================] - 0s 37us/sample - loss: 0.2869 - accuracy: 0.8840\n",
      "Epoch 87/100\n",
      "750/750 [==============================] - ETA: 0s - loss: 0.3104 - accuracy: 0.87 - 0s 45us/sample - loss: 0.2860 - accuracy: 0.8840\n",
      "Epoch 88/100\n",
      "750/750 [==============================] - 0s 43us/sample - loss: 0.2850 - accuracy: 0.8853\n",
      "Epoch 89/100\n",
      "750/750 [==============================] - 0s 44us/sample - loss: 0.2842 - accuracy: 0.8880\n",
      "Epoch 90/100\n",
      "750/750 [==============================] - 0s 41us/sample - loss: 0.2833 - accuracy: 0.8880\n",
      "Epoch 91/100\n",
      "750/750 [==============================] - 0s 41us/sample - loss: 0.2825 - accuracy: 0.8880\n",
      "Epoch 92/100\n",
      "750/750 [==============================] - 0s 40us/sample - loss: 0.2816 - accuracy: 0.8880\n",
      "Epoch 93/100\n",
      "750/750 [==============================] - 0s 41us/sample - loss: 0.2808 - accuracy: 0.8893\n",
      "Epoch 94/100\n",
      "750/750 [==============================] - 0s 52us/sample - loss: 0.2801 - accuracy: 0.8907\n",
      "Epoch 95/100\n",
      "750/750 [==============================] - 0s 45us/sample - loss: 0.2793 - accuracy: 0.8920\n",
      "Epoch 96/100\n",
      "750/750 [==============================] - 0s 41us/sample - loss: 0.2786 - accuracy: 0.8920\n",
      "Epoch 97/100\n",
      "750/750 [==============================] - 0s 41us/sample - loss: 0.2779 - accuracy: 0.8920\n",
      "Epoch 98/100\n",
      "750/750 [==============================] - 0s 41us/sample - loss: 0.2773 - accuracy: 0.8920\n",
      "Epoch 99/100\n",
      "750/750 [==============================] - 0s 41us/sample - loss: 0.2766 - accuracy: 0.8933\n",
      "Epoch 100/100\n",
      "750/750 [==============================] - 0s 40us/sample - loss: 0.2759 - accuracy: 0.8933\n"
     ]
    }
   ],
   "source": [
    "# Training the model with the nonlinear data\n",
    "model_moon = nn_model.fit(X_moon_train_scaled, y_moon_train, epochs=100, shuffle=True)"
   ]
  },
  {
   "cell_type": "code",
   "execution_count": 19,
   "metadata": {},
   "outputs": [
    {
     "data": {
      "text/plain": [
       "<matplotlib.axes._subplots.AxesSubplot at 0x18404367e48>"
      ]
     },
     "execution_count": 19,
     "metadata": {},
     "output_type": "execute_result"
    },
    {
     "data": {
      "image/png": "[encoded data removed]",
      "text/plain": [
       "<Figure size 432x288 with 1 Axes>"
      ]
     },
     "metadata": {
      "needs_background": "light"
     },
     "output_type": "display_data"
    }
   ],
   "source": [
    "# Create a DataFrame containing training history\n",
    "history_df = pd.DataFrame(model_moon.history, index=range(1,len(model_moon.history[\"loss\"])+1))\n",
    "\n",
    "# Plot the loss\n",
    "history_df.plot(y=\"loss\")"
   ]
  },
  {
   "cell_type": "code",
   "execution_count": 20,
   "metadata": {},
   "outputs": [
    {
     "data": {
      "text/plain": [
       "<matplotlib.axes._subplots.AxesSubplot at 0x184043a6608>"
      ]
     },
     "execution_count": 20,
     "metadata": {},
     "output_type": "execute_result"
    },
    {
     "data": {
      "image/png": "[encoded data removed]",
      "text/plain": [
       "<Figure size 432x288 with 1 Axes>"
      ]
     },
     "metadata": {
      "needs_background": "light"
     },
     "output_type": "display_data"
    }
   ],
   "source": [
    "# Plot the accuracy\n",
    "history_df.plot(y=\"accuracy\")"
   ]
  },
  {
   "cell_type": "code",
   "execution_count": 21,
   "metadata": {},
   "outputs": [],
   "source": [
    "# Generate our new Sequential model\n",
    "new_model = tf.keras.models.Sequential()"
   ]
  },
  {
   "cell_type": "code",
   "execution_count": 22,
   "metadata": {},
   "outputs": [],
   "source": [
    "# Add the input and hidden layer\n",
    "number_inputs = 2\n",
    "number_hidden_nodes = 6\n",
    "\n",
    "new_model.add(tf.keras.layers.Dense(units=number_hidden_nodes, activation=\"relu\", input_dim=number_inputs))\n",
    "\n",
    "# Add the output layer that uses a probability activation function\n",
    "new_model.add(tf.keras.layers.Dense(units=1, activation=\"sigmoid\"))"
   ]
  },
  {
   "cell_type": "code",
   "execution_count": 23,
   "metadata": {},
   "outputs": [
    {
     "name": "stdout",
     "output_type": "stream",
     "text": [
      "Train on 750 samples\n",
      "Epoch 1/100\n",
      "750/750 [==============================] - 0s 619us/sample - loss: 0.9516 - accuracy: 0.1867\n",
      "Epoch 2/100\n",
      "750/750 [==============================] - 0s 52us/sample - loss: 0.8846 - accuracy: 0.2467\n",
      "Epoch 3/100\n",
      "750/750 [==============================] - 0s 51us/sample - loss: 0.8259 - accuracy: 0.2787\n",
      "Epoch 4/100\n",
      "750/750 [==============================] - 0s 57us/sample - loss: 0.7729 - accuracy: 0.3160\n",
      "Epoch 5/100\n",
      "750/750 [==============================] - 0s 49us/sample - loss: 0.7259 - accuracy: 0.4053\n",
      "Epoch 6/100\n",
      "750/750 [==============================] - 0s 45us/sample - loss: 0.6834 - accuracy: 0.6200\n",
      "Epoch 7/100\n",
      "750/750 [==============================] - 0s 48us/sample - loss: 0.6449 - accuracy: 0.6533\n",
      "Epoch 8/100\n",
      "750/750 [==============================] - 0s 44us/sample - loss: 0.6098 - accuracy: 0.6720\n",
      "Epoch 9/100\n",
      "750/750 [==============================] - 0s 55us/sample - loss: 0.5775 - accuracy: 0.6947\n",
      "Epoch 10/100\n",
      "750/750 [==============================] - 0s 54us/sample - loss: 0.5483 - accuracy: 0.7067\n",
      "Epoch 11/100\n",
      "750/750 [==============================] - 0s 47us/sample - loss: 0.5213 - accuracy: 0.7227\n",
      "Epoch 12/100\n",
      "750/750 [==============================] - 0s 56us/sample - loss: 0.4975 - accuracy: 0.7573\n",
      "Epoch 13/100\n",
      "750/750 [==============================] - 0s 49us/sample - loss: 0.4765 - accuracy: 0.7733\n",
      "Epoch 14/100\n",
      "750/750 [==============================] - 0s 45us/sample - loss: 0.4580 - accuracy: 0.7893\n",
      "Epoch 15/100\n",
      "750/750 [==============================] - 0s 56us/sample - loss: 0.4411 - accuracy: 0.8053\n",
      "Epoch 16/100\n",
      "750/750 [==============================] - 0s 49us/sample - loss: 0.4262 - accuracy: 0.8120\n",
      "Epoch 17/100\n",
      "750/750 [==============================] - 0s 57us/sample - loss: 0.4125 - accuracy: 0.8173\n",
      "Epoch 18/100\n",
      "750/750 [==============================] - 0s 56us/sample - loss: 0.3999 - accuracy: 0.8227\n",
      "Epoch 19/100\n",
      "750/750 [==============================] - 0s 52us/sample - loss: 0.3887 - accuracy: 0.8253\n",
      "Epoch 20/100\n",
      "750/750 [==============================] - 0s 47us/sample - loss: 0.3785 - accuracy: 0.8267\n",
      "Epoch 21/100\n",
      "750/750 [==============================] - 0s 52us/sample - loss: 0.3690 - accuracy: 0.8320\n",
      "Epoch 22/100\n",
      "750/750 [==============================] - 0s 56us/sample - loss: 0.3603 - accuracy: 0.8347\n",
      "Epoch 23/100\n",
      "750/750 [==============================] - 0s 60us/sample - loss: 0.3523 - accuracy: 0.8387\n",
      "Epoch 24/100\n",
      "750/750 [==============================] - 0s 57us/sample - loss: 0.3452 - accuracy: 0.8413\n",
      "Epoch 25/100\n",
      "750/750 [==============================] - 0s 61us/sample - loss: 0.3388 - accuracy: 0.8427\n",
      "Epoch 26/100\n",
      "750/750 [==============================] - 0s 57us/sample - loss: 0.3329 - accuracy: 0.8440\n",
      "Epoch 27/100\n",
      "750/750 [==============================] - 0s 49us/sample - loss: 0.3277 - accuracy: 0.8480\n",
      "Epoch 28/100\n",
      "750/750 [==============================] - 0s 51us/sample - loss: 0.3228 - accuracy: 0.8507\n",
      "Epoch 29/100\n",
      "750/750 [==============================] - 0s 55us/sample - loss: 0.3183 - accuracy: 0.8547\n",
      "Epoch 30/100\n",
      "750/750 [==============================] - 0s 53us/sample - loss: 0.3142 - accuracy: 0.8587\n",
      "Epoch 31/100\n",
      "750/750 [==============================] - 0s 52us/sample - loss: 0.3104 - accuracy: 0.8653\n",
      "Epoch 32/100\n",
      "750/750 [==============================] - 0s 56us/sample - loss: 0.3071 - accuracy: 0.8640\n",
      "Epoch 33/100\n",
      "750/750 [==============================] - 0s 57us/sample - loss: 0.3038 - accuracy: 0.8653\n",
      "Epoch 34/100\n",
      "750/750 [==============================] - 0s 53us/sample - loss: 0.3008 - accuracy: 0.8667\n",
      "Epoch 35/100\n",
      "750/750 [==============================] - 0s 52us/sample - loss: 0.2981 - accuracy: 0.8693\n",
      "Epoch 36/100\n",
      "750/750 [==============================] - 0s 48us/sample - loss: 0.2954 - accuracy: 0.8720\n",
      "Epoch 37/100\n",
      "750/750 [==============================] - 0s 43us/sample - loss: 0.2930 - accuracy: 0.8733\n",
      "Epoch 38/100\n",
      "750/750 [==============================] - 0s 45us/sample - loss: 0.2908 - accuracy: 0.8747\n",
      "Epoch 39/100\n",
      "750/750 [==============================] - 0s 44us/sample - loss: 0.2887 - accuracy: 0.8760\n",
      "Epoch 40/100\n",
      "750/750 [==============================] - 0s 43us/sample - loss: 0.2868 - accuracy: 0.8787\n",
      "Epoch 41/100\n",
      "750/750 [==============================] - 0s 48us/sample - loss: 0.2849 - accuracy: 0.8787\n",
      "Epoch 42/100\n",
      "750/750 [==============================] - 0s 41us/sample - loss: 0.2831 - accuracy: 0.8813\n",
      "Epoch 43/100\n",
      "750/750 [==============================] - ETA: 0s - loss: 0.3177 - accuracy: 0.81 - 0s 39us/sample - loss: 0.2815 - accuracy: 0.8827\n",
      "Epoch 44/100\n",
      "750/750 [==============================] - 0s 45us/sample - loss: 0.2800 - accuracy: 0.8827\n",
      "Epoch 45/100\n",
      "750/750 [==============================] - 0s 47us/sample - loss: 0.2786 - accuracy: 0.8827\n",
      "Epoch 46/100\n",
      "750/750 [==============================] - 0s 52us/sample - loss: 0.2773 - accuracy: 0.8827\n",
      "Epoch 47/100\n",
      "750/750 [==============================] - 0s 45us/sample - loss: 0.2760 - accuracy: 0.8840\n",
      "Epoch 48/100\n",
      "750/750 [==============================] - 0s 49us/sample - loss: 0.2748 - accuracy: 0.8840\n",
      "Epoch 49/100\n",
      "750/750 [==============================] - 0s 44us/sample - loss: 0.2735 - accuracy: 0.8840\n",
      "Epoch 50/100\n",
      "750/750 [==============================] - 0s 43us/sample - loss: 0.2724 - accuracy: 0.8867\n",
      "Epoch 51/100\n",
      "750/750 [==============================] - 0s 48us/sample - loss: 0.2714 - accuracy: 0.8853\n",
      "Epoch 52/100\n",
      "750/750 [==============================] - 0s 43us/sample - loss: 0.2706 - accuracy: 0.8867\n",
      "Epoch 53/100\n",
      "750/750 [==============================] - 0s 51us/sample - loss: 0.2696 - accuracy: 0.8853\n",
      "Epoch 54/100\n",
      "750/750 [==============================] - 0s 45us/sample - loss: 0.2689 - accuracy: 0.8853\n",
      "Epoch 55/100\n",
      "750/750 [==============================] - 0s 49us/sample - loss: 0.2679 - accuracy: 0.8853\n",
      "Epoch 56/100\n",
      "750/750 [==============================] - 0s 44us/sample - loss: 0.2671 - accuracy: 0.8867\n",
      "Epoch 57/100\n",
      "750/750 [==============================] - 0s 44us/sample - loss: 0.2665 - accuracy: 0.8880\n",
      "Epoch 58/100\n",
      "750/750 [==============================] - 0s 41us/sample - loss: 0.2658 - accuracy: 0.8893\n",
      "Epoch 59/100\n",
      "750/750 [==============================] - 0s 43us/sample - loss: 0.2650 - accuracy: 0.8880\n",
      "Epoch 60/100\n",
      "750/750 [==============================] - 0s 45us/sample - loss: 0.2644 - accuracy: 0.8880\n",
      "Epoch 61/100\n",
      "750/750 [==============================] - 0s 41us/sample - loss: 0.2638 - accuracy: 0.8893\n",
      "Epoch 62/100\n",
      "750/750 [==============================] - 0s 47us/sample - loss: 0.2632 - accuracy: 0.8893\n",
      "Epoch 63/100\n",
      "750/750 [==============================] - 0s 44us/sample - loss: 0.2627 - accuracy: 0.8893\n",
      "Epoch 64/100\n",
      "750/750 [==============================] - 0s 41us/sample - loss: 0.2622 - accuracy: 0.8880\n",
      "Epoch 65/100\n",
      "750/750 [==============================] - 0s 40us/sample - loss: 0.2617 - accuracy: 0.8893\n",
      "Epoch 66/100\n",
      "750/750 [==============================] - 0s 41us/sample - loss: 0.2612 - accuracy: 0.8880\n",
      "Epoch 67/100\n",
      "750/750 [==============================] - 0s 44us/sample - loss: 0.2608 - accuracy: 0.8880\n",
      "Epoch 68/100\n",
      "750/750 [==============================] - 0s 40us/sample - loss: 0.2603 - accuracy: 0.8880\n",
      "Epoch 69/100\n",
      "750/750 [==============================] - 0s 40us/sample - loss: 0.2599 - accuracy: 0.8880\n",
      "Epoch 70/100\n",
      "750/750 [==============================] - 0s 36us/sample - loss: 0.2594 - accuracy: 0.8893\n",
      "Epoch 71/100\n",
      "750/750 [==============================] - ETA: 0s - loss: 0.1657 - accuracy: 0.93 - 0s 43us/sample - loss: 0.2591 - accuracy: 0.8893\n",
      "Epoch 72/100\n",
      "750/750 [==============================] - 0s 53us/sample - loss: 0.2588 - accuracy: 0.8893\n",
      "Epoch 73/100\n",
      "750/750 [==============================] - 0s 48us/sample - loss: 0.2584 - accuracy: 0.8893\n",
      "Epoch 74/100\n",
      "750/750 [==============================] - 0s 43us/sample - loss: 0.2581 - accuracy: 0.8893\n",
      "Epoch 75/100\n",
      "750/750 [==============================] - 0s 46us/sample - loss: 0.2579 - accuracy: 0.8893\n",
      "Epoch 76/100\n",
      "750/750 [==============================] - 0s 43us/sample - loss: 0.2573 - accuracy: 0.8893\n",
      "Epoch 77/100\n",
      "750/750 [==============================] - 0s 40us/sample - loss: 0.2570 - accuracy: 0.8893\n",
      "Epoch 78/100\n"
     ]
    },
    {
     "name": "stdout",
     "output_type": "stream",
     "text": [
      "750/750 [==============================] - 0s 41us/sample - loss: 0.2568 - accuracy: 0.8893\n",
      "Epoch 79/100\n",
      "750/750 [==============================] - 0s 44us/sample - loss: 0.2566 - accuracy: 0.8893\n",
      "Epoch 80/100\n",
      "750/750 [==============================] - 0s 41us/sample - loss: 0.2562 - accuracy: 0.8893\n",
      "Epoch 81/100\n",
      "750/750 [==============================] - 0s 41us/sample - loss: 0.2560 - accuracy: 0.8893\n",
      "Epoch 82/100\n",
      "750/750 [==============================] - 0s 41us/sample - loss: 0.2555 - accuracy: 0.8893\n",
      "Epoch 83/100\n",
      "750/750 [==============================] - 0s 40us/sample - loss: 0.2553 - accuracy: 0.8893\n",
      "Epoch 84/100\n",
      "750/750 [==============================] - 0s 44us/sample - loss: 0.2550 - accuracy: 0.8893\n",
      "Epoch 85/100\n",
      "750/750 [==============================] - 0s 41us/sample - loss: 0.2548 - accuracy: 0.8907\n",
      "Epoch 86/100\n",
      "750/750 [==============================] - 0s 44us/sample - loss: 0.2545 - accuracy: 0.8907\n",
      "Epoch 87/100\n",
      "750/750 [==============================] - 0s 43us/sample - loss: 0.2543 - accuracy: 0.8893\n",
      "Epoch 88/100\n",
      "750/750 [==============================] - 0s 41us/sample - loss: 0.2541 - accuracy: 0.8907\n",
      "Epoch 89/100\n",
      "750/750 [==============================] - 0s 45us/sample - loss: 0.2537 - accuracy: 0.8907\n",
      "Epoch 90/100\n",
      "750/750 [==============================] - 0s 41us/sample - loss: 0.2535 - accuracy: 0.8907\n",
      "Epoch 91/100\n",
      "750/750 [==============================] - 0s 41us/sample - loss: 0.2532 - accuracy: 0.8907\n",
      "Epoch 92/100\n",
      "750/750 [==============================] - 0s 48us/sample - loss: 0.2530 - accuracy: 0.8907\n",
      "Epoch 93/100\n",
      "750/750 [==============================] - 0s 41us/sample - loss: 0.2528 - accuracy: 0.8907\n",
      "Epoch 94/100\n",
      "750/750 [==============================] - 0s 41us/sample - loss: 0.2526 - accuracy: 0.8907\n",
      "Epoch 95/100\n",
      "750/750 [==============================] - 0s 43us/sample - loss: 0.2524 - accuracy: 0.8907\n",
      "Epoch 96/100\n",
      "750/750 [==============================] - 0s 47us/sample - loss: 0.2521 - accuracy: 0.8907\n",
      "Epoch 97/100\n",
      "750/750 [==============================] - 0s 42us/sample - loss: 0.2519 - accuracy: 0.8907\n",
      "Epoch 98/100\n",
      "750/750 [==============================] - 0s 45us/sample - loss: 0.2517 - accuracy: 0.8907\n",
      "Epoch 99/100\n",
      "750/750 [==============================] - 0s 41us/sample - loss: 0.2515 - accuracy: 0.8907\n",
      "Epoch 100/100\n",
      "750/750 [==============================] - 0s 45us/sample - loss: 0.2512 - accuracy: 0.8907\n"
     ]
    }
   ],
   "source": [
    "# Compile the Sequential model together and customize metrics\n",
    "new_model.compile(loss=\"binary_crossentropy\", optimizer=\"adam\", metrics=[\"accuracy\"])\n",
    "\n",
    "# Fit the model to the training data\n",
    "new_fit_model = new_model.fit(X_moon_train_scaled, y_moon_train, epochs=100, shuffle=True)"
   ]
  },
  {
   "cell_type": "code",
   "execution_count": null,
   "metadata": {},
   "outputs": [],
   "source": []
  }
 ],
 "metadata": {
  "kernelspec": {
   "display_name": "PythonData",
   "language": "python",
   "name": "pythondata"
  },
  "language_info": {
   "codemirror_mode": {
    "name": "ipython",
    "version": 3
   },
   "file_extension": ".py",
   "mimetype": "text/x-python",
   "name": "python",
   "nbconvert_exporter": "python",
   "pygments_lexer": "ipython3",
   "version": "3.7.6"
  }
 },
 "nbformat": 4,
 "nbformat_minor": 4
}
