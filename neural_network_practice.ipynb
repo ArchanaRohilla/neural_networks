{
 "cells": [
  {
   "cell_type": "code",
   "execution_count": 1,
   "metadata": {},
   "outputs": [],
   "source": [
    "# Import our dependencies\n",
    "import pandas as pd\n",
    "import matplotlib as plt\n",
    "from sklearn.datasets import make_blobs\n",
    "import sklearn as skl\n",
    "import tensorflow as tf"
   ]
  },
  {
   "cell_type": "code",
   "execution_count": 2,
   "metadata": {},
   "outputs": [
    {
     "data": {
      "text/plain": [
       "<matplotlib.axes._subplots.AxesSubplot at 0x20882f19208>"
      ]
     },
     "execution_count": 2,
     "metadata": {},
     "output_type": "execute_result"
    },
    {
     "data": {
      "image/png": "[encoded data removed]",
      "text/plain": [
       "<Figure size 432x288 with 2 Axes>"
      ]
     },
     "metadata": {
      "needs_background": "light"
     },
     "output_type": "display_data"
    }
   ],
   "source": [
    "# Generate dummy dataset\n",
    "X, y = make_blobs(n_samples=1000, centers=2, n_features=2, random_state=78)\n",
    "\n",
    "# Creating a DataFrame with the dummy data\n",
    "df = pd.DataFrame(X, columns=[\"Feature 1\", \"Feature 2\"])\n",
    "df[\"Target\"] = y\n",
    "\n",
    "# Plotting the dummy data\n",
    "df.plot.scatter(x=\"Feature 1\", y=\"Feature 2\", c=\"Target\", colormap=\"winter\")"
   ]
  },
  {
   "cell_type": "code",
   "execution_count": 3,
   "metadata": {},
   "outputs": [],
   "source": [
    "# Use sklearn to split dataset\n",
    "from sklearn.model_selection import train_test_split\n",
    "X_train, X_test, y_train, y_test = train_test_split(X, y, random_state=78)"
   ]
  },
  {
   "cell_type": "code",
   "execution_count": 4,
   "metadata": {},
   "outputs": [],
   "source": [
    "# Create scaler instance\n",
    "X_scaler = skl.preprocessing.StandardScaler()\n",
    "\n",
    "# Fit the scaler\n",
    "X_scaler.fit(X_train)\n",
    "\n",
    "# Scale the data\n",
    "X_train_scaled = X_scaler.transform(X_train)\n",
    "X_test_scaled = X_scaler.transform(X_test)"
   ]
  },
  {
   "cell_type": "code",
   "execution_count": 5,
   "metadata": {},
   "outputs": [],
   "source": [
    "# Create the Keras Sequential model\n",
    "nn_model = tf.keras.models.Sequential()"
   ]
  },
  {
   "cell_type": "code",
   "execution_count": 6,
   "metadata": {},
   "outputs": [],
   "source": [
    "# Add our first Dense layer, including the input layer\n",
    "nn_model.add(tf.keras.layers.Dense(units=1, activation=\"relu\", input_dim=2))"
   ]
  },
  {
   "cell_type": "code",
   "execution_count": 7,
   "metadata": {},
   "outputs": [],
   "source": [
    "# Add the output layer that uses a probability activation function\n",
    "nn_model.add(tf.keras.layers.Dense(units=1, activation=\"sigmoid\"))"
   ]
  },
  {
   "cell_type": "code",
   "execution_count": 8,
   "metadata": {},
   "outputs": [
    {
     "name": "stdout",
     "output_type": "stream",
     "text": [
      "Model: \"sequential\"\n",
      "_________________________________________________________________\n",
      "Layer (type)                 Output Shape              Param #   \n",
      "=================================================================\n",
      "dense (Dense)                (None, 1)                 3         \n",
      "_________________________________________________________________\n",
      "dense_1 (Dense)              (None, 1)                 2         \n",
      "=================================================================\n",
      "Total params: 5\n",
      "Trainable params: 5\n",
      "Non-trainable params: 0\n",
      "_________________________________________________________________\n"
     ]
    }
   ],
   "source": [
    "# Check the structure of the Sequential model\n",
    "nn_model.summary()"
   ]
  },
  {
   "cell_type": "code",
   "execution_count": 9,
   "metadata": {},
   "outputs": [],
   "source": [
    "# Compile the Sequential model together and customize metrics\n",
    "nn_model.compile(loss=\"binary_crossentropy\", optimizer=\"adam\", metrics=[\"accuracy\"])"
   ]
  },
  {
   "cell_type": "code",
   "execution_count": 10,
   "metadata": {},
   "outputs": [
    {
     "name": "stdout",
     "output_type": "stream",
     "text": [
      "Train on 750 samples\n",
      "Epoch 1/100\n",
      "750/750 [==============================] - 0s 662us/sample - loss: 0.4890 - accuracy: 0.9947\n",
      "Epoch 2/100\n",
      "750/750 [==============================] - 0s 50us/sample - loss: 0.4746 - accuracy: 0.9973\n",
      "Epoch 3/100\n",
      "750/750 [==============================] - 0s 49us/sample - loss: 0.4602 - accuracy: 0.9987\n",
      "Epoch 4/100\n",
      "750/750 [==============================] - 0s 59us/sample - loss: 0.4462 - accuracy: 0.9987\n",
      "Epoch 5/100\n",
      "750/750 [==============================] - 0s 55us/sample - loss: 0.4325 - accuracy: 1.0000\n",
      "Epoch 6/100\n",
      "750/750 [==============================] - 0s 59us/sample - loss: 0.4192 - accuracy: 1.0000\n",
      "Epoch 7/100\n",
      "750/750 [==============================] - 0s 56us/sample - loss: 0.4066 - accuracy: 1.0000\n",
      "Epoch 8/100\n",
      "750/750 [==============================] - ETA: 0s - loss: 0.4161 - accuracy: 1.00 - 0s 51us/sample - loss: 0.3944 - accuracy: 1.0000\n",
      "Epoch 9/100\n",
      "750/750 [==============================] - 0s 51us/sample - loss: 0.3826 - accuracy: 1.0000\n",
      "Epoch 10/100\n",
      "750/750 [==============================] - 0s 56us/sample - loss: 0.3715 - accuracy: 1.0000\n",
      "Epoch 11/100\n",
      "750/750 [==============================] - 0s 49us/sample - loss: 0.3608 - accuracy: 1.0000\n",
      "Epoch 12/100\n",
      "750/750 [==============================] - 0s 51us/sample - loss: 0.3506 - accuracy: 1.0000\n",
      "Epoch 13/100\n",
      "750/750 [==============================] - 0s 49us/sample - loss: 0.3409 - accuracy: 1.0000\n",
      "Epoch 14/100\n",
      "750/750 [==============================] - 0s 43us/sample - loss: 0.3316 - accuracy: 1.0000\n",
      "Epoch 15/100\n",
      "750/750 [==============================] - 0s 47us/sample - loss: 0.3227 - accuracy: 1.0000\n",
      "Epoch 16/100\n",
      "750/750 [==============================] - 0s 44us/sample - loss: 0.3142 - accuracy: 1.0000\n",
      "Epoch 17/100\n",
      "750/750 [==============================] - 0s 51us/sample - loss: 0.3062 - accuracy: 1.0000\n",
      "Epoch 18/100\n",
      "750/750 [==============================] - 0s 53us/sample - loss: 0.2984 - accuracy: 1.0000\n",
      "Epoch 19/100\n",
      "750/750 [==============================] - 0s 55us/sample - loss: 0.2910 - accuracy: 1.0000\n",
      "Epoch 20/100\n",
      "750/750 [==============================] - 0s 53us/sample - loss: 0.2839 - accuracy: 1.0000\n",
      "Epoch 21/100\n",
      "750/750 [==============================] - 0s 51us/sample - loss: 0.2771 - accuracy: 1.0000\n",
      "Epoch 22/100\n",
      "750/750 [==============================] - 0s 51us/sample - loss: 0.2705 - accuracy: 1.0000\n",
      "Epoch 23/100\n",
      "750/750 [==============================] - 0s 47us/sample - loss: 0.2642 - accuracy: 1.0000\n",
      "Epoch 24/100\n",
      "750/750 [==============================] - 0s 51us/sample - loss: 0.2581 - accuracy: 1.0000\n",
      "Epoch 25/100\n",
      "750/750 [==============================] - 0s 55us/sample - loss: 0.2523 - accuracy: 1.0000\n",
      "Epoch 26/100\n",
      "750/750 [==============================] - 0s 51us/sample - loss: 0.2467 - accuracy: 1.0000\n",
      "Epoch 27/100\n",
      "750/750 [==============================] - 0s 52us/sample - loss: 0.2413 - accuracy: 1.0000\n",
      "Epoch 28/100\n",
      "750/750 [==============================] - 0s 55us/sample - loss: 0.2361 - accuracy: 1.0000\n",
      "Epoch 29/100\n",
      "750/750 [==============================] - 0s 51us/sample - loss: 0.2310 - accuracy: 1.0000\n",
      "Epoch 30/100\n",
      "750/750 [==============================] - 0s 49us/sample - loss: 0.2262 - accuracy: 1.0000\n",
      "Epoch 31/100\n",
      "750/750 [==============================] - 0s 51us/sample - loss: 0.2215 - accuracy: 1.0000\n",
      "Epoch 32/100\n",
      "750/750 [==============================] - 0s 49us/sample - loss: 0.2169 - accuracy: 1.0000\n",
      "Epoch 33/100\n",
      "750/750 [==============================] - 0s 48us/sample - loss: 0.2125 - accuracy: 1.0000\n",
      "Epoch 34/100\n",
      "750/750 [==============================] - 0s 54us/sample - loss: 0.2082 - accuracy: 1.0000\n",
      "Epoch 35/100\n",
      "750/750 [==============================] - 0s 49us/sample - loss: 0.2040 - accuracy: 1.0000\n",
      "Epoch 36/100\n",
      "750/750 [==============================] - 0s 40us/sample - loss: 0.2000 - accuracy: 1.0000\n",
      "Epoch 37/100\n",
      "750/750 [==============================] - 0s 47us/sample - loss: 0.1961 - accuracy: 1.0000\n",
      "Epoch 38/100\n",
      "750/750 [==============================] - 0s 41us/sample - loss: 0.1923 - accuracy: 1.0000\n",
      "Epoch 39/100\n",
      "750/750 [==============================] - 0s 43us/sample - loss: 0.1886 - accuracy: 1.0000\n",
      "Epoch 40/100\n",
      "750/750 [==============================] - 0s 43us/sample - loss: 0.1850 - accuracy: 1.0000\n",
      "Epoch 41/100\n",
      "750/750 [==============================] - 0s 59us/sample - loss: 0.1815 - accuracy: 1.0000\n",
      "Epoch 42/100\n",
      "750/750 [==============================] - 0s 54us/sample - loss: 0.1781 - accuracy: 1.0000\n",
      "Epoch 43/100\n",
      "750/750 [==============================] - 0s 51us/sample - loss: 0.1748 - accuracy: 1.0000\n",
      "Epoch 44/100\n",
      "750/750 [==============================] - 0s 59us/sample - loss: 0.1716 - accuracy: 1.0000\n",
      "Epoch 45/100\n",
      "750/750 [==============================] - 0s 57us/sample - loss: 0.1684 - accuracy: 1.0000\n",
      "Epoch 46/100\n",
      "750/750 [==============================] - 0s 57us/sample - loss: 0.1654 - accuracy: 1.0000\n",
      "Epoch 47/100\n",
      "750/750 [==============================] - 0s 44us/sample - loss: 0.1624 - accuracy: 1.0000\n",
      "Epoch 48/100\n",
      "750/750 [==============================] - 0s 51us/sample - loss: 0.1595 - accuracy: 1.0000\n",
      "Epoch 49/100\n",
      "750/750 [==============================] - 0s 51us/sample - loss: 0.1566 - accuracy: 1.0000\n",
      "Epoch 50/100\n",
      "750/750 [==============================] - 0s 53us/sample - loss: 0.1539 - accuracy: 1.0000\n",
      "Epoch 51/100\n",
      "750/750 [==============================] - 0s 55us/sample - loss: 0.1512 - accuracy: 1.0000\n",
      "Epoch 52/100\n",
      "750/750 [==============================] - 0s 55us/sample - loss: 0.1486 - accuracy: 1.0000\n",
      "Epoch 53/100\n",
      "750/750 [==============================] - 0s 47us/sample - loss: 0.1460 - accuracy: 1.0000\n",
      "Epoch 54/100\n",
      "750/750 [==============================] - 0s 47us/sample - loss: 0.1435 - accuracy: 1.0000\n",
      "Epoch 55/100\n",
      "750/750 [==============================] - 0s 51us/sample - loss: 0.1411 - accuracy: 1.0000\n",
      "Epoch 56/100\n",
      "750/750 [==============================] - 0s 64us/sample - loss: 0.1387 - accuracy: 1.0000\n",
      "Epoch 57/100\n",
      "750/750 [==============================] - 0s 57us/sample - loss: 0.1364 - accuracy: 1.0000\n",
      "Epoch 58/100\n",
      "750/750 [==============================] - 0s 44us/sample - loss: 0.1341 - accuracy: 1.0000\n",
      "Epoch 59/100\n",
      "750/750 [==============================] - 0s 55us/sample - loss: 0.1318 - accuracy: 1.0000\n",
      "Epoch 60/100\n",
      "750/750 [==============================] - 0s 52us/sample - loss: 0.1297 - accuracy: 1.0000\n",
      "Epoch 61/100\n",
      "750/750 [==============================] - 0s 47us/sample - loss: 0.1275 - accuracy: 1.0000\n",
      "Epoch 62/100\n",
      "750/750 [==============================] - 0s 44us/sample - loss: 0.1255 - accuracy: 1.0000\n",
      "Epoch 63/100\n",
      "750/750 [==============================] - 0s 45us/sample - loss: 0.1234 - accuracy: 1.0000\n",
      "Epoch 64/100\n",
      "750/750 [==============================] - 0s 44us/sample - loss: 0.1214 - accuracy: 1.0000\n",
      "Epoch 65/100\n",
      "750/750 [==============================] - 0s 45us/sample - loss: 0.1195 - accuracy: 1.0000\n",
      "Epoch 66/100\n",
      "750/750 [==============================] - 0s 51us/sample - loss: 0.1175 - accuracy: 1.0000\n",
      "Epoch 67/100\n",
      "750/750 [==============================] - 0s 45us/sample - loss: 0.1157 - accuracy: 1.0000\n",
      "Epoch 68/100\n",
      "750/750 [==============================] - 0s 46us/sample - loss: 0.1138 - accuracy: 1.0000\n",
      "Epoch 69/100\n",
      "750/750 [==============================] - 0s 43us/sample - loss: 0.1120 - accuracy: 1.0000\n",
      "Epoch 70/100\n",
      "750/750 [==============================] - 0s 53us/sample - loss: 0.1103 - accuracy: 1.0000\n",
      "Epoch 71/100\n",
      "750/750 [==============================] - 0s 44us/sample - loss: 0.1086 - accuracy: 1.0000\n",
      "Epoch 72/100\n",
      "750/750 [==============================] - 0s 46us/sample - loss: 0.1069 - accuracy: 1.0000\n",
      "Epoch 73/100\n",
      "750/750 [==============================] - 0s 41us/sample - loss: 0.1053 - accuracy: 1.0000\n",
      "Epoch 74/100\n",
      "750/750 [==============================] - 0s 41us/sample - loss: 0.1036 - accuracy: 1.0000\n",
      "Epoch 75/100\n",
      "750/750 [==============================] - 0s 41us/sample - loss: 0.1021 - accuracy: 1.0000\n",
      "Epoch 76/100\n",
      "750/750 [==============================] - 0s 40us/sample - loss: 0.1005 - accuracy: 1.0000\n",
      "Epoch 77/100\n",
      "750/750 [==============================] - 0s 40us/sample - loss: 0.0990 - accuracy: 1.0000\n",
      "Epoch 78/100\n"
     ]
    },
    {
     "name": "stdout",
     "output_type": "stream",
     "text": [
      "750/750 [==============================] - 0s 41us/sample - loss: 0.0975 - accuracy: 1.0000\n",
      "Epoch 79/100\n",
      "750/750 [==============================] - 0s 49us/sample - loss: 0.0960 - accuracy: 1.0000\n",
      "Epoch 80/100\n",
      "750/750 [==============================] - 0s 44us/sample - loss: 0.0946 - accuracy: 1.0000\n",
      "Epoch 81/100\n",
      "750/750 [==============================] - 0s 39us/sample - loss: 0.0932 - accuracy: 1.0000\n",
      "Epoch 82/100\n",
      "750/750 [==============================] - 0s 40us/sample - loss: 0.0918 - accuracy: 1.0000\n",
      "Epoch 83/100\n",
      "750/750 [==============================] - 0s 39us/sample - loss: 0.0905 - accuracy: 1.0000\n",
      "Epoch 84/100\n",
      "750/750 [==============================] - 0s 41us/sample - loss: 0.0891 - accuracy: 1.0000\n",
      "Epoch 85/100\n",
      "750/750 [==============================] - 0s 43us/sample - loss: 0.0878 - accuracy: 1.0000\n",
      "Epoch 86/100\n",
      "750/750 [==============================] - 0s 37us/sample - loss: 0.0866 - accuracy: 1.0000\n",
      "Epoch 87/100\n",
      "750/750 [==============================] - 0s 43us/sample - loss: 0.0853 - accuracy: 1.0000\n",
      "Epoch 88/100\n",
      "750/750 [==============================] - 0s 36us/sample - loss: 0.0841 - accuracy: 1.0000\n",
      "Epoch 89/100\n",
      "750/750 [==============================] - 0s 45us/sample - loss: 0.0829 - accuracy: 1.0000\n",
      "Epoch 90/100\n",
      "750/750 [==============================] - 0s 49us/sample - loss: 0.0817 - accuracy: 1.0000\n",
      "Epoch 91/100\n",
      "750/750 [==============================] - 0s 48us/sample - loss: 0.0805 - accuracy: 1.0000\n",
      "Epoch 92/100\n",
      "750/750 [==============================] - 0s 48us/sample - loss: 0.0794 - accuracy: 1.0000\n",
      "Epoch 93/100\n",
      "750/750 [==============================] - 0s 81us/sample - loss: 0.0783 - accuracy: 1.0000\n",
      "Epoch 94/100\n",
      "750/750 [==============================] - 0s 80us/sample - loss: 0.0772 - accuracy: 1.0000\n",
      "Epoch 95/100\n",
      "750/750 [==============================] - 0s 59us/sample - loss: 0.0761 - accuracy: 1.0000\n",
      "Epoch 96/100\n",
      "750/750 [==============================] - 0s 59us/sample - loss: 0.0750 - accuracy: 1.0000\n",
      "Epoch 97/100\n",
      "750/750 [==============================] - 0s 55us/sample - loss: 0.0740 - accuracy: 1.0000\n",
      "Epoch 98/100\n",
      "750/750 [==============================] - 0s 51us/sample - loss: 0.0729 - accuracy: 1.0000\n",
      "Epoch 99/100\n",
      "750/750 [==============================] - 0s 49us/sample - loss: 0.0719 - accuracy: 1.0000\n",
      "Epoch 100/100\n",
      "750/750 [==============================] - 0s 52us/sample - loss: 0.0710 - accuracy: 1.0000\n"
     ]
    }
   ],
   "source": [
    "# Fit the model to the training data\n",
    "fit_model = nn_model.fit(X_train_scaled, y_train, epochs=100)"
   ]
  },
  {
   "cell_type": "code",
   "execution_count": 11,
   "metadata": {},
   "outputs": [
    {
     "data": {
      "text/plain": [
       "<matplotlib.axes._subplots.AxesSubplot at 0x20884705f08>"
      ]
     },
     "execution_count": 11,
     "metadata": {},
     "output_type": "execute_result"
    },
    {
     "data": {
      "image/png": "[encoded data removed]",
      "text/plain": [
       "<Figure size 432x288 with 1 Axes>"
      ]
     },
     "metadata": {
      "needs_background": "light"
     },
     "output_type": "display_data"
    }
   ],
   "source": [
    "# Create a DataFrame containing training history\n",
    "history_df = pd.DataFrame(fit_model.history, index=range(1,len(fit_model.history[\"loss\"])+1))\n",
    "\n",
    "# Plot the loss\n",
    "history_df.plot(y=\"loss\")"
   ]
  },
  {
   "cell_type": "code",
   "execution_count": 12,
   "metadata": {},
   "outputs": [
    {
     "data": {
      "text/plain": [
       "<matplotlib.axes._subplots.AxesSubplot at 0x20884701d48>"
      ]
     },
     "execution_count": 12,
     "metadata": {},
     "output_type": "execute_result"
    },
    {
     "data": {
      "image/png": "[encoded data removed]",
      "text/plain": [
       "<Figure size 432x288 with 1 Axes>"
      ]
     },
     "metadata": {
      "needs_background": "light"
     },
     "output_type": "display_data"
    }
   ],
   "source": [
    "# Plot the accuracy\n",
    "history_df.plot(y=\"accuracy\")"
   ]
  },
  {
   "cell_type": "code",
   "execution_count": 13,
   "metadata": {},
   "outputs": [
    {
     "name": "stdout",
     "output_type": "stream",
     "text": [
      "250/250 - 0s - loss: 0.0667 - accuracy: 1.0000\n",
      "Loss: 0.06670741140842437, Accuracy: 1.0\n"
     ]
    }
   ],
   "source": [
    "# Evaluate the model using the test data\n",
    "model_loss, model_accuracy = nn_model.evaluate(X_test_scaled,y_test,verbose=2)\n",
    "print(f\"Loss: {model_loss}, Accuracy: {model_accuracy}\")"
   ]
  },
  {
   "cell_type": "code",
   "execution_count": 14,
   "metadata": {},
   "outputs": [
    {
     "data": {
      "text/plain": [
       "array([[0],\n",
       "       [1],\n",
       "       [0],\n",
       "       [1],\n",
       "       [0],\n",
       "       [0],\n",
       "       [1],\n",
       "       [1],\n",
       "       [1],\n",
       "       [0]])"
      ]
     },
     "execution_count": 14,
     "metadata": {},
     "output_type": "execute_result"
    }
   ],
   "source": [
    "# Predict the classification of a new set of blob data\n",
    "new_X, new_Y = make_blobs(n_samples=10, centers=2, n_features=2, random_state=78)\n",
    "new_X_scaled = X_scaler.transform(new_X)\n",
    "nn_model.predict_classes(new_X_scaled)"
   ]
  },
  {
   "cell_type": "code",
   "execution_count": 15,
   "metadata": {},
   "outputs": [
    {
     "data": {
      "text/plain": [
       "<matplotlib.axes._subplots.AxesSubplot at 0x2088483fcc8>"
      ]
     },
     "execution_count": 15,
     "metadata": {},
     "output_type": "execute_result"
    },
    {
     "data": {
      "image/png": "[encoded data removed]",
      "text/plain": [
       "<Figure size 432x288 with 2 Axes>"
      ]
     },
     "metadata": {
      "needs_background": "light"
     },
     "output_type": "display_data"
    }
   ],
   "source": [
    "from sklearn.datasets import make_moons\n",
    "\n",
    "# Creating dummy nonlinear data\n",
    "X_moons, y_moons = make_moons(n_samples=1000, noise=0.08, random_state=78)\n",
    "\n",
    "# Transforming y_moons to a vertical vector\n",
    "y_moons = y_moons.reshape(-1, 1)\n",
    "\n",
    "# Creating a DataFrame to plot the nonlinear dummy data\n",
    "df_moons = pd.DataFrame(X_moons, columns=[\"Feature 1\", \"Feature 2\"])\n",
    "df_moons[\"Target\"] = y_moons\n",
    "\n",
    "# Plot the nonlinear dummy data\n",
    "df_moons.plot.scatter(x=\"Feature 1\",y=\"Feature 2\", c=\"Target\",colormap=\"winter\")\n"
   ]
  },
  {
   "cell_type": "code",
   "execution_count": 16,
   "metadata": {},
   "outputs": [],
   "source": [
    "# Create training and testing sets\n",
    "X_moon_train, X_moon_test, y_moon_train, y_moon_test = train_test_split(\n",
    "    X_moons, y_moons, random_state=78\n",
    ")\n",
    "\n",
    "# Create the scaler instance\n",
    "X_moon_scaler = skl.preprocessing.StandardScaler()\n",
    "\n",
    "# Fit the scaler\n",
    "X_moon_scaler.fit(X_moon_train)\n",
    "\n",
    "# Scale the data\n",
    "X_moon_train_scaled = X_moon_scaler.transform(X_moon_train)\n",
    "X_moon_test_scaled = X_moon_scaler.transform(X_moon_test)"
   ]
  },
  {
   "cell_type": "code",
   "execution_count": 17,
   "metadata": {},
   "outputs": [
    {
     "name": "stdout",
     "output_type": "stream",
     "text": [
      "Train on 750 samples\n",
      "Epoch 1/100\n",
      "750/750 [==============================] - 0s 358us/sample - loss: 0.8073 - accuracy: 0.6360\n",
      "Epoch 2/100\n",
      "750/750 [==============================] - 0s 49us/sample - loss: 0.7103 - accuracy: 0.6600\n",
      "Epoch 3/100\n",
      "750/750 [==============================] - 0s 44us/sample - loss: 0.6467 - accuracy: 0.6773\n",
      "Epoch 4/100\n",
      "750/750 [==============================] - 0s 53us/sample - loss: 0.6061 - accuracy: 0.6933\n",
      "Epoch 5/100\n",
      "750/750 [==============================] - 0s 52us/sample - loss: 0.5763 - accuracy: 0.7027\n",
      "Epoch 6/100\n",
      "750/750 [==============================] - 0s 52us/sample - loss: 0.5532 - accuracy: 0.7120\n",
      "Epoch 7/100\n",
      "750/750 [==============================] - 0s 53us/sample - loss: 0.5339 - accuracy: 0.7227\n",
      "Epoch 8/100\n",
      "750/750 [==============================] - 0s 48us/sample - loss: 0.5182 - accuracy: 0.7333\n",
      "Epoch 9/100\n",
      "750/750 [==============================] - 0s 45us/sample - loss: 0.5037 - accuracy: 0.7387\n",
      "Epoch 10/100\n",
      "750/750 [==============================] - 0s 51us/sample - loss: 0.4916 - accuracy: 0.7480\n",
      "Epoch 11/100\n",
      "750/750 [==============================] - 0s 53us/sample - loss: 0.4803 - accuracy: 0.7520\n",
      "Epoch 12/100\n",
      "750/750 [==============================] - 0s 52us/sample - loss: 0.4698 - accuracy: 0.7573\n",
      "Epoch 13/100\n",
      "750/750 [==============================] - 0s 41us/sample - loss: 0.4602 - accuracy: 0.7667\n",
      "Epoch 14/100\n",
      "750/750 [==============================] - 0s 39us/sample - loss: 0.4515 - accuracy: 0.7680\n",
      "Epoch 15/100\n",
      "750/750 [==============================] - 0s 40us/sample - loss: 0.4431 - accuracy: 0.7747\n",
      "Epoch 16/100\n",
      "750/750 [==============================] - 0s 47us/sample - loss: 0.4349 - accuracy: 0.7773\n",
      "Epoch 17/100\n",
      "750/750 [==============================] - 0s 43us/sample - loss: 0.4270 - accuracy: 0.7840\n",
      "Epoch 18/100\n",
      "750/750 [==============================] - 0s 40us/sample - loss: 0.4194 - accuracy: 0.7867\n",
      "Epoch 19/100\n",
      "750/750 [==============================] - 0s 41us/sample - loss: 0.4121 - accuracy: 0.7907\n",
      "Epoch 20/100\n",
      "750/750 [==============================] - 0s 49us/sample - loss: 0.4054 - accuracy: 0.7920\n",
      "Epoch 21/100\n",
      "750/750 [==============================] - 0s 47us/sample - loss: 0.3990 - accuracy: 0.7973\n",
      "Epoch 22/100\n",
      "750/750 [==============================] - 0s 41us/sample - loss: 0.3926 - accuracy: 0.8067\n",
      "Epoch 23/100\n",
      "750/750 [==============================] - 0s 41us/sample - loss: 0.3864 - accuracy: 0.8120\n",
      "Epoch 24/100\n",
      "750/750 [==============================] - 0s 43us/sample - loss: 0.3807 - accuracy: 0.8160\n",
      "Epoch 25/100\n",
      "750/750 [==============================] - 0s 45us/sample - loss: 0.3751 - accuracy: 0.8160\n",
      "Epoch 26/100\n",
      "750/750 [==============================] - 0s 40us/sample - loss: 0.3698 - accuracy: 0.8160\n",
      "Epoch 27/100\n",
      "750/750 [==============================] - 0s 45us/sample - loss: 0.3647 - accuracy: 0.8213\n",
      "Epoch 28/100\n",
      "750/750 [==============================] - 0s 41us/sample - loss: 0.3600 - accuracy: 0.8227\n",
      "Epoch 29/100\n",
      "750/750 [==============================] - 0s 43us/sample - loss: 0.3552 - accuracy: 0.8240\n",
      "Epoch 30/100\n",
      "750/750 [==============================] - 0s 45us/sample - loss: 0.3506 - accuracy: 0.8253\n",
      "Epoch 31/100\n",
      "750/750 [==============================] - 0s 44us/sample - loss: 0.3461 - accuracy: 0.8293\n",
      "Epoch 32/100\n",
      "750/750 [==============================] - 0s 47us/sample - loss: 0.3416 - accuracy: 0.8293\n",
      "Epoch 33/100\n",
      "750/750 [==============================] - 0s 48us/sample - loss: 0.3376 - accuracy: 0.8293\n",
      "Epoch 34/100\n",
      "750/750 [==============================] - 0s 43us/sample - loss: 0.3335 - accuracy: 0.8320\n",
      "Epoch 35/100\n",
      "750/750 [==============================] - 0s 43us/sample - loss: 0.3298 - accuracy: 0.8373\n",
      "Epoch 36/100\n",
      "750/750 [==============================] - 0s 44us/sample - loss: 0.3261 - accuracy: 0.8387\n",
      "Epoch 37/100\n",
      "750/750 [==============================] - 0s 44us/sample - loss: 0.3225 - accuracy: 0.8413\n",
      "Epoch 38/100\n",
      "750/750 [==============================] - 0s 41us/sample - loss: 0.3191 - accuracy: 0.8440\n",
      "Epoch 39/100\n",
      "750/750 [==============================] - 0s 44us/sample - loss: 0.3159 - accuracy: 0.8493\n",
      "Epoch 40/100\n",
      "750/750 [==============================] - ETA: 0s - loss: 0.4898 - accuracy: 0.71 - 0s 45us/sample - loss: 0.3129 - accuracy: 0.8507\n",
      "Epoch 41/100\n",
      "750/750 [==============================] - 0s 41us/sample - loss: 0.3098 - accuracy: 0.8547\n",
      "Epoch 42/100\n",
      "750/750 [==============================] - 0s 44us/sample - loss: 0.3070 - accuracy: 0.8587\n",
      "Epoch 43/100\n",
      "750/750 [==============================] - 0s 44us/sample - loss: 0.3044 - accuracy: 0.8627\n",
      "Epoch 44/100\n",
      "750/750 [==============================] - 0s 43us/sample - loss: 0.3018 - accuracy: 0.8653\n",
      "Epoch 45/100\n",
      "750/750 [==============================] - 0s 44us/sample - loss: 0.2995 - accuracy: 0.8667\n",
      "Epoch 46/100\n",
      "750/750 [==============================] - 0s 43us/sample - loss: 0.2971 - accuracy: 0.8667\n",
      "Epoch 47/100\n",
      "750/750 [==============================] - 0s 45us/sample - loss: 0.2949 - accuracy: 0.8667\n",
      "Epoch 48/100\n",
      "750/750 [==============================] - 0s 40us/sample - loss: 0.2927 - accuracy: 0.8707\n",
      "Epoch 49/100\n",
      "750/750 [==============================] - 0s 44us/sample - loss: 0.2907 - accuracy: 0.8747\n",
      "Epoch 50/100\n",
      "750/750 [==============================] - 0s 47us/sample - loss: 0.2888 - accuracy: 0.8747\n",
      "Epoch 51/100\n",
      "750/750 [==============================] - 0s 44us/sample - loss: 0.2870 - accuracy: 0.8760\n",
      "Epoch 52/100\n",
      "750/750 [==============================] - 0s 41us/sample - loss: 0.2853 - accuracy: 0.8800\n",
      "Epoch 53/100\n",
      "750/750 [==============================] - 0s 42us/sample - loss: 0.2838 - accuracy: 0.8813\n",
      "Epoch 54/100\n",
      "750/750 [==============================] - 0s 37us/sample - loss: 0.2825 - accuracy: 0.8813\n",
      "Epoch 55/100\n",
      "750/750 [==============================] - 0s 43us/sample - loss: 0.2811 - accuracy: 0.8813\n",
      "Epoch 56/100\n",
      "750/750 [==============================] - 0s 36us/sample - loss: 0.2799 - accuracy: 0.8827\n",
      "Epoch 57/100\n",
      "750/750 [==============================] - 0s 44us/sample - loss: 0.2788 - accuracy: 0.8840\n",
      "Epoch 58/100\n",
      "750/750 [==============================] - 0s 40us/sample - loss: 0.2779 - accuracy: 0.8840\n",
      "Epoch 59/100\n",
      "750/750 [==============================] - 0s 40us/sample - loss: 0.2770 - accuracy: 0.8867\n",
      "Epoch 60/100\n",
      "750/750 [==============================] - ETA: 0s - loss: 0.2329 - accuracy: 0.93 - 0s 40us/sample - loss: 0.2761 - accuracy: 0.8880\n",
      "Epoch 61/100\n",
      "750/750 [==============================] - 0s 44us/sample - loss: 0.2753 - accuracy: 0.8880\n",
      "Epoch 62/100\n",
      "750/750 [==============================] - 0s 39us/sample - loss: 0.2746 - accuracy: 0.8893\n",
      "Epoch 63/100\n",
      "750/750 [==============================] - 0s 44us/sample - loss: 0.2740 - accuracy: 0.8893\n",
      "Epoch 64/100\n",
      "750/750 [==============================] - 0s 54us/sample - loss: 0.2734 - accuracy: 0.8893\n",
      "Epoch 65/100\n",
      "750/750 [==============================] - 0s 59us/sample - loss: 0.2727 - accuracy: 0.8907\n",
      "Epoch 66/100\n",
      "750/750 [==============================] - 0s 61us/sample - loss: 0.2722 - accuracy: 0.8920\n",
      "Epoch 67/100\n",
      "750/750 [==============================] - 0s 51us/sample - loss: 0.2717 - accuracy: 0.8920\n",
      "Epoch 68/100\n",
      "750/750 [==============================] - 0s 43us/sample - loss: 0.2712 - accuracy: 0.8907\n",
      "Epoch 69/100\n",
      "750/750 [==============================] - 0s 45us/sample - loss: 0.2708 - accuracy: 0.8907\n",
      "Epoch 70/100\n",
      "750/750 [==============================] - 0s 47us/sample - loss: 0.2704 - accuracy: 0.8920\n",
      "Epoch 71/100\n",
      "750/750 [==============================] - 0s 35us/sample - loss: 0.2699 - accuracy: 0.8920\n",
      "Epoch 72/100\n",
      "750/750 [==============================] - 0s 39us/sample - loss: 0.2695 - accuracy: 0.8920\n",
      "Epoch 73/100\n",
      "750/750 [==============================] - 0s 33us/sample - loss: 0.2692 - accuracy: 0.8920\n",
      "Epoch 74/100\n",
      "750/750 [==============================] - 0s 40us/sample - loss: 0.2687 - accuracy: 0.8920\n",
      "Epoch 75/100\n",
      "750/750 [==============================] - 0s 36us/sample - loss: 0.2683 - accuracy: 0.8920\n",
      "Epoch 76/100\n",
      "750/750 [==============================] - 0s 39us/sample - loss: 0.2680 - accuracy: 0.8920\n",
      "Epoch 77/100\n",
      "750/750 [==============================] - 0s 37us/sample - loss: 0.2676 - accuracy: 0.8920\n",
      "Epoch 78/100\n"
     ]
    },
    {
     "name": "stdout",
     "output_type": "stream",
     "text": [
      "750/750 [==============================] - 0s 41us/sample - loss: 0.2673 - accuracy: 0.8920\n",
      "Epoch 79/100\n",
      "750/750 [==============================] - 0s 39us/sample - loss: 0.2670 - accuracy: 0.8920\n",
      "Epoch 80/100\n",
      "750/750 [==============================] - 0s 40us/sample - loss: 0.2668 - accuracy: 0.8920\n",
      "Epoch 81/100\n",
      "750/750 [==============================] - 0s 38us/sample - loss: 0.2665 - accuracy: 0.8920\n",
      "Epoch 82/100\n",
      "750/750 [==============================] - 0s 41us/sample - loss: 0.2663 - accuracy: 0.8920\n",
      "Epoch 83/100\n",
      "750/750 [==============================] - 0s 39us/sample - loss: 0.2658 - accuracy: 0.8920\n",
      "Epoch 84/100\n",
      "750/750 [==============================] - 0s 40us/sample - loss: 0.2656 - accuracy: 0.8920\n",
      "Epoch 85/100\n",
      "750/750 [==============================] - 0s 43us/sample - loss: 0.2653 - accuracy: 0.8920\n",
      "Epoch 86/100\n",
      "750/750 [==============================] - 0s 39us/sample - loss: 0.2650 - accuracy: 0.8920\n",
      "Epoch 87/100\n",
      "750/750 [==============================] - 0s 37us/sample - loss: 0.2647 - accuracy: 0.8920\n",
      "Epoch 88/100\n",
      "750/750 [==============================] - 0s 41us/sample - loss: 0.2645 - accuracy: 0.8920\n",
      "Epoch 89/100\n",
      "750/750 [==============================] - 0s 37us/sample - loss: 0.2642 - accuracy: 0.8920\n",
      "Epoch 90/100\n",
      "750/750 [==============================] - 0s 41us/sample - loss: 0.2641 - accuracy: 0.8920\n",
      "Epoch 91/100\n",
      "750/750 [==============================] - 0s 39us/sample - loss: 0.2638 - accuracy: 0.8920\n",
      "Epoch 92/100\n",
      "750/750 [==============================] - 0s 45us/sample - loss: 0.2635 - accuracy: 0.8920\n",
      "Epoch 93/100\n",
      "750/750 [==============================] - 0s 40us/sample - loss: 0.2633 - accuracy: 0.8920\n",
      "Epoch 94/100\n",
      "750/750 [==============================] - 0s 41us/sample - loss: 0.2631 - accuracy: 0.8920\n",
      "Epoch 95/100\n",
      "750/750 [==============================] - 0s 44us/sample - loss: 0.2628 - accuracy: 0.8907\n",
      "Epoch 96/100\n",
      "750/750 [==============================] - 0s 45us/sample - loss: 0.2627 - accuracy: 0.8907\n",
      "Epoch 97/100\n",
      "750/750 [==============================] - 0s 39us/sample - loss: 0.2625 - accuracy: 0.8920\n",
      "Epoch 98/100\n",
      "750/750 [==============================] - 0s 39us/sample - loss: 0.2622 - accuracy: 0.8907\n",
      "Epoch 99/100\n",
      "750/750 [==============================] - 0s 41us/sample - loss: 0.2620 - accuracy: 0.8907\n",
      "Epoch 100/100\n",
      "750/750 [==============================] - 0s 44us/sample - loss: 0.2618 - accuracy: 0.8907\n"
     ]
    }
   ],
   "source": [
    "# Training the model with the nonlinear data\n",
    "model_moon = nn_model.fit(X_moon_train_scaled, y_moon_train, epochs=100, shuffle=True)"
   ]
  },
  {
   "cell_type": "code",
   "execution_count": 18,
   "metadata": {},
   "outputs": [
    {
     "data": {
      "text/plain": [
       "<matplotlib.axes._subplots.AxesSubplot at 0x20884c97908>"
      ]
     },
     "execution_count": 18,
     "metadata": {},
     "output_type": "execute_result"
    },
    {
     "data": {
      "image/png": "[encoded data removed]",
      "text/plain": [
       "<Figure size 432x288 with 1 Axes>"
      ]
     },
     "metadata": {
      "needs_background": "light"
     },
     "output_type": "display_data"
    }
   ],
   "source": [
    "# Create a DataFrame containing training history\n",
    "history_df = pd.DataFrame(model_moon.history, index=range(1,len(model_moon.history[\"loss\"])+1))\n",
    "\n",
    "# Plot the loss\n",
    "history_df.plot(y=\"loss\")"
   ]
  },
  {
   "cell_type": "code",
   "execution_count": 19,
   "metadata": {},
   "outputs": [
    {
     "data": {
      "text/plain": [
       "<matplotlib.axes._subplots.AxesSubplot at 0x20884cd8e08>"
      ]
     },
     "execution_count": 19,
     "metadata": {},
     "output_type": "execute_result"
    },
    {
     "data": {
      "image/png": "[encoded data removed]",
      "text/plain": [
       "<Figure size 432x288 with 1 Axes>"
      ]
     },
     "metadata": {
      "needs_background": "light"
     },
     "output_type": "display_data"
    }
   ],
   "source": [
    "# Plot the accuracy\n",
    "history_df.plot(y=\"accuracy\")"
   ]
  },
  {
   "cell_type": "code",
   "execution_count": 20,
   "metadata": {},
   "outputs": [],
   "source": [
    "# Generate our new Sequential model\n",
    "new_model = tf.keras.models.Sequential()"
   ]
  },
  {
   "cell_type": "code",
   "execution_count": 21,
   "metadata": {},
   "outputs": [],
   "source": [
    "# Add the input and hidden layer\n",
    "number_inputs = 2\n",
    "number_hidden_nodes = 6\n",
    "\n",
    "new_model.add(tf.keras.layers.Dense(units=number_hidden_nodes, activation=\"relu\", input_dim=number_inputs))\n",
    "\n",
    "# Add the output layer that uses a probability activation function\n",
    "new_model.add(tf.keras.layers.Dense(units=1, activation=\"sigmoid\"))"
   ]
  },
  {
   "cell_type": "code",
   "execution_count": 22,
   "metadata": {},
   "outputs": [
    {
     "name": "stdout",
     "output_type": "stream",
     "text": [
      "Train on 750 samples\n",
      "Epoch 1/100\n",
      "750/750 [==============================] - 0s 467us/sample - loss: 0.7367 - accuracy: 0.3440\n",
      "Epoch 2/100\n",
      "750/750 [==============================] - 0s 46us/sample - loss: 0.6929 - accuracy: 0.3587\n",
      "Epoch 3/100\n",
      "750/750 [==============================] - 0s 40us/sample - loss: 0.6538 - accuracy: 0.4173\n",
      "Epoch 4/100\n",
      "750/750 [==============================] - 0s 46us/sample - loss: 0.6192 - accuracy: 0.5440\n",
      "Epoch 5/100\n",
      "750/750 [==============================] - 0s 48us/sample - loss: 0.5870 - accuracy: 0.6360\n",
      "Epoch 6/100\n",
      "750/750 [==============================] - 0s 43us/sample - loss: 0.5577 - accuracy: 0.7280\n",
      "Epoch 7/100\n",
      "750/750 [==============================] - 0s 48us/sample - loss: 0.5306 - accuracy: 0.7680\n",
      "Epoch 8/100\n",
      "750/750 [==============================] - 0s 44us/sample - loss: 0.5064 - accuracy: 0.7907\n",
      "Epoch 9/100\n",
      "750/750 [==============================] - 0s 60us/sample - loss: 0.4834 - accuracy: 0.7987\n",
      "Epoch 10/100\n",
      "750/750 [==============================] - 0s 44us/sample - loss: 0.4622 - accuracy: 0.8080\n",
      "Epoch 11/100\n",
      "750/750 [==============================] - 0s 45us/sample - loss: 0.4428 - accuracy: 0.8173\n",
      "Epoch 12/100\n",
      "750/750 [==============================] - 0s 47us/sample - loss: 0.4246 - accuracy: 0.8227\n",
      "Epoch 13/100\n",
      "750/750 [==============================] - 0s 48us/sample - loss: 0.4074 - accuracy: 0.8293\n",
      "Epoch 14/100\n",
      "750/750 [==============================] - 0s 55us/sample - loss: 0.3921 - accuracy: 0.8347\n",
      "Epoch 15/100\n",
      "750/750 [==============================] - 0s 41us/sample - loss: 0.3782 - accuracy: 0.8413\n",
      "Epoch 16/100\n",
      "750/750 [==============================] - 0s 44us/sample - loss: 0.3655 - accuracy: 0.8453\n",
      "Epoch 17/100\n",
      "750/750 [==============================] - 0s 46us/sample - loss: 0.3541 - accuracy: 0.8547\n",
      "Epoch 18/100\n",
      "750/750 [==============================] - 0s 45us/sample - loss: 0.3438 - accuracy: 0.8613\n",
      "Epoch 19/100\n",
      "750/750 [==============================] - 0s 49us/sample - loss: 0.3341 - accuracy: 0.8680\n",
      "Epoch 20/100\n",
      "750/750 [==============================] - 0s 47us/sample - loss: 0.3249 - accuracy: 0.8720\n",
      "Epoch 21/100\n",
      "750/750 [==============================] - 0s 48us/sample - loss: 0.3165 - accuracy: 0.8787\n",
      "Epoch 22/100\n",
      "750/750 [==============================] - 0s 67us/sample - loss: 0.3084 - accuracy: 0.8840\n",
      "Epoch 23/100\n",
      "750/750 [==============================] - 0s 49us/sample - loss: 0.3008 - accuracy: 0.8840\n",
      "Epoch 24/100\n",
      "750/750 [==============================] - 0s 54us/sample - loss: 0.2937 - accuracy: 0.8867\n",
      "Epoch 25/100\n",
      "750/750 [==============================] - 0s 52us/sample - loss: 0.2872 - accuracy: 0.8867\n",
      "Epoch 26/100\n",
      "750/750 [==============================] - 0s 53us/sample - loss: 0.2812 - accuracy: 0.8893\n",
      "Epoch 27/100\n",
      "750/750 [==============================] - 0s 49us/sample - loss: 0.2756 - accuracy: 0.8920\n",
      "Epoch 28/100\n",
      "750/750 [==============================] - 0s 47us/sample - loss: 0.2706 - accuracy: 0.8933\n",
      "Epoch 29/100\n",
      "750/750 [==============================] - 0s 65us/sample - loss: 0.2658 - accuracy: 0.8973\n",
      "Epoch 30/100\n",
      "750/750 [==============================] - 0s 69us/sample - loss: 0.2615 - accuracy: 0.8987\n",
      "Epoch 31/100\n",
      "750/750 [==============================] - 0s 69us/sample - loss: 0.2574 - accuracy: 0.9000\n",
      "Epoch 32/100\n",
      "750/750 [==============================] - 0s 65us/sample - loss: 0.2537 - accuracy: 0.9013\n",
      "Epoch 33/100\n",
      "750/750 [==============================] - 0s 57us/sample - loss: 0.2501 - accuracy: 0.9013\n",
      "Epoch 34/100\n",
      "750/750 [==============================] - 0s 53us/sample - loss: 0.2467 - accuracy: 0.9013\n",
      "Epoch 35/100\n",
      "750/750 [==============================] - 0s 56us/sample - loss: 0.2436 - accuracy: 0.9027\n",
      "Epoch 36/100\n",
      "750/750 [==============================] - 0s 51us/sample - loss: 0.2406 - accuracy: 0.9040\n",
      "Epoch 37/100\n",
      "750/750 [==============================] - 0s 52us/sample - loss: 0.2378 - accuracy: 0.9040\n",
      "Epoch 38/100\n",
      "750/750 [==============================] - 0s 43us/sample - loss: 0.2353 - accuracy: 0.9040\n",
      "Epoch 39/100\n",
      "750/750 [==============================] - 0s 41us/sample - loss: 0.2328 - accuracy: 0.9067\n",
      "Epoch 40/100\n",
      "750/750 [==============================] - 0s 39us/sample - loss: 0.2305 - accuracy: 0.9067\n",
      "Epoch 41/100\n",
      "750/750 [==============================] - 0s 44us/sample - loss: 0.2283 - accuracy: 0.9067\n",
      "Epoch 42/100\n",
      "750/750 [==============================] - 0s 43us/sample - loss: 0.2263 - accuracy: 0.9080\n",
      "Epoch 43/100\n",
      "750/750 [==============================] - 0s 44us/sample - loss: 0.2243 - accuracy: 0.9080\n",
      "Epoch 44/100\n",
      "750/750 [==============================] - 0s 52us/sample - loss: 0.2224 - accuracy: 0.9080\n",
      "Epoch 45/100\n",
      "750/750 [==============================] - 0s 41us/sample - loss: 0.2206 - accuracy: 0.9093\n",
      "Epoch 46/100\n",
      "750/750 [==============================] - 0s 48us/sample - loss: 0.2188 - accuracy: 0.9107\n",
      "Epoch 47/100\n",
      "750/750 [==============================] - 0s 52us/sample - loss: 0.2170 - accuracy: 0.9107\n",
      "Epoch 48/100\n",
      "750/750 [==============================] - 0s 47us/sample - loss: 0.2154 - accuracy: 0.9120\n",
      "Epoch 49/100\n",
      "750/750 [==============================] - 0s 51us/sample - loss: 0.2138 - accuracy: 0.9120\n",
      "Epoch 50/100\n",
      "750/750 [==============================] - 0s 49us/sample - loss: 0.2123 - accuracy: 0.9120\n",
      "Epoch 51/100\n",
      "750/750 [==============================] - 0s 74us/sample - loss: 0.2107 - accuracy: 0.9133\n",
      "Epoch 52/100\n",
      "750/750 [==============================] - 0s 69us/sample - loss: 0.2092 - accuracy: 0.9133\n",
      "Epoch 53/100\n",
      "750/750 [==============================] - 0s 55us/sample - loss: 0.2079 - accuracy: 0.9147\n",
      "Epoch 54/100\n",
      "750/750 [==============================] - 0s 53us/sample - loss: 0.2064 - accuracy: 0.9147\n",
      "Epoch 55/100\n",
      "750/750 [==============================] - 0s 57us/sample - loss: 0.2050 - accuracy: 0.9133\n",
      "Epoch 56/100\n",
      "750/750 [==============================] - 0s 55us/sample - loss: 0.2036 - accuracy: 0.9147\n",
      "Epoch 57/100\n",
      "750/750 [==============================] - 0s 47us/sample - loss: 0.2022 - accuracy: 0.9147\n",
      "Epoch 58/100\n",
      "750/750 [==============================] - 0s 47us/sample - loss: 0.2007 - accuracy: 0.9160\n",
      "Epoch 59/100\n",
      "750/750 [==============================] - 0s 48us/sample - loss: 0.1994 - accuracy: 0.9173\n",
      "Epoch 60/100\n",
      "750/750 [==============================] - 0s 41us/sample - loss: 0.1980 - accuracy: 0.9213\n",
      "Epoch 61/100\n",
      "750/750 [==============================] - 0s 35us/sample - loss: 0.1967 - accuracy: 0.9213\n",
      "Epoch 62/100\n",
      "750/750 [==============================] - 0s 37us/sample - loss: 0.1953 - accuracy: 0.9213\n",
      "Epoch 63/100\n",
      "750/750 [==============================] - 0s 43us/sample - loss: 0.1940 - accuracy: 0.9213\n",
      "Epoch 64/100\n",
      "750/750 [==============================] - 0s 37us/sample - loss: 0.1926 - accuracy: 0.9213\n",
      "Epoch 65/100\n",
      "750/750 [==============================] - 0s 39us/sample - loss: 0.1913 - accuracy: 0.9227\n",
      "Epoch 66/100\n",
      "750/750 [==============================] - 0s 37us/sample - loss: 0.1898 - accuracy: 0.9240\n",
      "Epoch 67/100\n",
      "750/750 [==============================] - 0s 43us/sample - loss: 0.1885 - accuracy: 0.9240\n",
      "Epoch 68/100\n",
      "750/750 [==============================] - 0s 36us/sample - loss: 0.1871 - accuracy: 0.9253\n",
      "Epoch 69/100\n",
      "750/750 [==============================] - 0s 43us/sample - loss: 0.1857 - accuracy: 0.9253\n",
      "Epoch 70/100\n",
      "750/750 [==============================] - 0s 37us/sample - loss: 0.1842 - accuracy: 0.9267\n",
      "Epoch 71/100\n",
      "750/750 [==============================] - 0s 43us/sample - loss: 0.1828 - accuracy: 0.9293\n",
      "Epoch 72/100\n",
      "750/750 [==============================] - ETA: 0s - loss: 0.0783 - accuracy: 1.00 - 0s 39us/sample - loss: 0.1814 - accuracy: 0.9307\n",
      "Epoch 73/100\n",
      "750/750 [==============================] - 0s 43us/sample - loss: 0.1800 - accuracy: 0.9307\n",
      "Epoch 74/100\n",
      "750/750 [==============================] - 0s 40us/sample - loss: 0.1785 - accuracy: 0.9307\n",
      "Epoch 75/100\n",
      "750/750 [==============================] - 0s 41us/sample - loss: 0.1773 - accuracy: 0.9307\n",
      "Epoch 76/100\n",
      "750/750 [==============================] - 0s 39us/sample - loss: 0.1756 - accuracy: 0.9307\n",
      "Epoch 77/100\n",
      "750/750 [==============================] - 0s 42us/sample - loss: 0.1742 - accuracy: 0.9307\n",
      "Epoch 78/100\n"
     ]
    },
    {
     "name": "stdout",
     "output_type": "stream",
     "text": [
      "750/750 [==============================] - 0s 37us/sample - loss: 0.1727 - accuracy: 0.9307\n",
      "Epoch 79/100\n",
      "750/750 [==============================] - 0s 45us/sample - loss: 0.1714 - accuracy: 0.9307\n",
      "Epoch 80/100\n",
      "750/750 [==============================] - 0s 41us/sample - loss: 0.1699 - accuracy: 0.9307\n",
      "Epoch 81/100\n",
      "750/750 [==============================] - 0s 37us/sample - loss: 0.1684 - accuracy: 0.9307\n",
      "Epoch 82/100\n",
      "750/750 [==============================] - 0s 40us/sample - loss: 0.1669 - accuracy: 0.9307\n",
      "Epoch 83/100\n",
      "750/750 [==============================] - 0s 40us/sample - loss: 0.1654 - accuracy: 0.9307\n",
      "Epoch 84/100\n",
      "750/750 [==============================] - 0s 39us/sample - loss: 0.1640 - accuracy: 0.9333\n",
      "Epoch 85/100\n",
      "750/750 [==============================] - 0s 43us/sample - loss: 0.1626 - accuracy: 0.9320\n",
      "Epoch 86/100\n",
      "750/750 [==============================] - 0s 41us/sample - loss: 0.1611 - accuracy: 0.9333\n",
      "Epoch 87/100\n",
      "750/750 [==============================] - 0s 37us/sample - loss: 0.1597 - accuracy: 0.9360\n",
      "Epoch 88/100\n",
      "750/750 [==============================] - 0s 43us/sample - loss: 0.1582 - accuracy: 0.9373\n",
      "Epoch 89/100\n",
      "750/750 [==============================] - 0s 40us/sample - loss: 0.1567 - accuracy: 0.9387\n",
      "Epoch 90/100\n",
      "750/750 [==============================] - 0s 37us/sample - loss: 0.1552 - accuracy: 0.9387\n",
      "Epoch 91/100\n",
      "750/750 [==============================] - 0s 40us/sample - loss: 0.1537 - accuracy: 0.9387\n",
      "Epoch 92/100\n",
      "750/750 [==============================] - 0s 39us/sample - loss: 0.1522 - accuracy: 0.9387\n",
      "Epoch 93/100\n",
      "750/750 [==============================] - 0s 41us/sample - loss: 0.1508 - accuracy: 0.9400\n",
      "Epoch 94/100\n",
      "750/750 [==============================] - 0s 37us/sample - loss: 0.1491 - accuracy: 0.9400\n",
      "Epoch 95/100\n",
      "750/750 [==============================] - 0s 43us/sample - loss: 0.1478 - accuracy: 0.9427\n",
      "Epoch 96/100\n",
      "750/750 [==============================] - 0s 37us/sample - loss: 0.1462 - accuracy: 0.9440\n",
      "Epoch 97/100\n",
      "750/750 [==============================] - 0s 41us/sample - loss: 0.1446 - accuracy: 0.9440\n",
      "Epoch 98/100\n",
      "750/750 [==============================] - 0s 39us/sample - loss: 0.1432 - accuracy: 0.9440\n",
      "Epoch 99/100\n",
      "750/750 [==============================] - 0s 41us/sample - loss: 0.1416 - accuracy: 0.9440\n",
      "Epoch 100/100\n",
      "750/750 [==============================] - 0s 37us/sample - loss: 0.1401 - accuracy: 0.9440\n"
     ]
    }
   ],
   "source": [
    "# Compile the Sequential model together and customize metrics\n",
    "new_model.compile(loss=\"binary_crossentropy\", optimizer=\"adam\", metrics=[\"accuracy\"])\n",
    "\n",
    "# Fit the model to the training data\n",
    "new_fit_model = new_model.fit(X_moon_train_scaled, y_moon_train, epochs=100, shuffle=True)"
   ]
  },
  {
   "cell_type": "code",
   "execution_count": 24,
   "metadata": {},
   "outputs": [
    {
     "data": {
      "text/plain": [
       "<matplotlib.axes._subplots.AxesSubplot at 0x20882ebfd88>"
      ]
     },
     "execution_count": 24,
     "metadata": {},
     "output_type": "execute_result"
    },
    {
     "data": {
      "image/png": "[encoded data removed]",
      "text/plain": [
       "<Figure size 432x288 with 1 Axes>"
      ]
     },
     "metadata": {
      "needs_background": "light"
     },
     "output_type": "display_data"
    }
   ],
   "source": [
    "s = pd.Series(df_moons[\"Feature 1\"])\n",
    "s.plot.line()"
   ]
  },
  {
   "cell_type": "code",
   "execution_count": 25,
   "metadata": {},
   "outputs": [
    {
     "data": {
      "text/plain": [
       "<matplotlib.axes._subplots.AxesSubplot at 0x20886095f08>"
      ]
     },
     "execution_count": 25,
     "metadata": {},
     "output_type": "execute_result"
    },
    {
     "data": {
      "image/png": "[encoded data removed]",
      "text/plain": [
       "<Figure size 432x288 with 1 Axes>"
      ]
     },
     "metadata": {
      "needs_background": "light"
     },
     "output_type": "display_data"
    }
   ],
   "source": [
    "s = pd.Series(df_moons[\"Feature 2\"])\n",
    "s.plot.line()"
   ]
  },
  {
   "cell_type": "code",
   "execution_count": 26,
   "metadata": {},
   "outputs": [
    {
     "data": {
      "text/plain": [
       "<matplotlib.axes._subplots.AxesSubplot at 0x208870c2348>"
      ]
     },
     "execution_count": 26,
     "metadata": {},
     "output_type": "execute_result"
    },
    {
     "data": {
      "image/png": "[encoded data removed]",
      "text/plain": [
       "<Figure size 432x288 with 1 Axes>"
      ]
     },
     "metadata": {
      "needs_background": "light"
     },
     "output_type": "display_data"
    }
   ],
   "source": [
    "s = pd.Series(df_moons[\"Target\"])\n",
    "s.plot.line()"
   ]
  },
  {
   "cell_type": "code",
   "execution_count": 27,
   "metadata": {},
   "outputs": [],
   "source": [
    "# Generate our new Sequential model\n",
    "new_model1 = tf.keras.models.Sequential()"
   ]
  },
  {
   "cell_type": "code",
   "execution_count": 39,
   "metadata": {},
   "outputs": [],
   "source": [
    "\n",
    "# Add the input and hidden layer\n",
    "number_inputs = 2\n",
    "number_hidden_nodes = 6\n",
    "\n",
    "new_model1.add(tf.keras.layers.Dense(units=number_hidden_nodes, activation=\"tanh\", input_dim=number_inputs))\n",
    "\n",
    "# Add the output layer that uses a probability activation function\n",
    "new_model1.add(tf.keras.layers.Dense(units=1, activation=\"sigmoid\"))"
   ]
  },
  {
   "cell_type": "code",
   "execution_count": 40,
   "metadata": {},
   "outputs": [
    {
     "name": "stdout",
     "output_type": "stream",
     "text": [
      "Train on 750 samples\n",
      "Epoch 1/100\n",
      "750/750 [==============================] - 0s 634us/sample - loss: 0.9102 - accuracy: 0.4067\n",
      "Epoch 2/100\n",
      "750/750 [==============================] - 0s 55us/sample - loss: 0.8242 - accuracy: 0.5120\n",
      "Epoch 3/100\n",
      "750/750 [==============================] - 0s 45us/sample - loss: 0.7470 - accuracy: 0.6120\n",
      "Epoch 4/100\n",
      "750/750 [==============================] - 0s 52us/sample - loss: 0.6789 - accuracy: 0.6840\n",
      "Epoch 5/100\n",
      "750/750 [==============================] - 0s 48us/sample - loss: 0.6199 - accuracy: 0.7253\n",
      "Epoch 6/100\n",
      "750/750 [==============================] - 0s 52us/sample - loss: 0.5681 - accuracy: 0.7760\n",
      "Epoch 7/100\n",
      "750/750 [==============================] - 0s 45us/sample - loss: 0.5246 - accuracy: 0.7920\n",
      "Epoch 8/100\n",
      "750/750 [==============================] - 0s 44us/sample - loss: 0.4868 - accuracy: 0.8093\n",
      "Epoch 9/100\n",
      "750/750 [==============================] - 0s 51us/sample - loss: 0.4543 - accuracy: 0.8267\n",
      "Epoch 10/100\n",
      "750/750 [==============================] - 0s 52us/sample - loss: 0.4272 - accuracy: 0.8413\n",
      "Epoch 11/100\n",
      "750/750 [==============================] - 0s 47us/sample - loss: 0.4041 - accuracy: 0.8467\n",
      "Epoch 12/100\n",
      "750/750 [==============================] - 0s 52us/sample - loss: 0.3840 - accuracy: 0.8560\n",
      "Epoch 13/100\n",
      "750/750 [==============================] - 0s 55us/sample - loss: 0.3670 - accuracy: 0.8680\n",
      "Epoch 14/100\n",
      "750/750 [==============================] - 0s 53us/sample - loss: 0.3526 - accuracy: 0.8760\n",
      "Epoch 15/100\n",
      "750/750 [==============================] - 0s 61us/sample - loss: 0.3403 - accuracy: 0.8853\n",
      "Epoch 16/100\n",
      "750/750 [==============================] - 0s 56us/sample - loss: 0.3296 - accuracy: 0.8880\n",
      "Epoch 17/100\n",
      "750/750 [==============================] - 0s 65us/sample - loss: 0.3207 - accuracy: 0.8907\n",
      "Epoch 18/100\n",
      "750/750 [==============================] - 0s 57us/sample - loss: 0.3127 - accuracy: 0.8947\n",
      "Epoch 19/100\n",
      "750/750 [==============================] - 0s 66us/sample - loss: 0.3060 - accuracy: 0.8960\n",
      "Epoch 20/100\n",
      "750/750 [==============================] - 0s 57us/sample - loss: 0.2999 - accuracy: 0.8960\n",
      "Epoch 21/100\n",
      "750/750 [==============================] - 0s 41us/sample - loss: 0.2949 - accuracy: 0.8960\n",
      "Epoch 22/100\n",
      "750/750 [==============================] - 0s 55us/sample - loss: 0.2903 - accuracy: 0.8960\n",
      "Epoch 23/100\n",
      "750/750 [==============================] - 0s 53us/sample - loss: 0.2865 - accuracy: 0.8973\n",
      "Epoch 24/100\n",
      "750/750 [==============================] - 0s 57us/sample - loss: 0.2829 - accuracy: 0.8973\n",
      "Epoch 25/100\n",
      "750/750 [==============================] - 0s 60us/sample - loss: 0.2798 - accuracy: 0.8960\n",
      "Epoch 26/100\n",
      "750/750 [==============================] - 0s 55us/sample - loss: 0.2772 - accuracy: 0.8933\n",
      "Epoch 27/100\n",
      "750/750 [==============================] - 0s 57us/sample - loss: 0.2747 - accuracy: 0.8933\n",
      "Epoch 28/100\n",
      "750/750 [==============================] - 0s 51us/sample - loss: 0.2727 - accuracy: 0.8920\n",
      "Epoch 29/100\n",
      "750/750 [==============================] - 0s 56us/sample - loss: 0.2707 - accuracy: 0.8920\n",
      "Epoch 30/100\n",
      "750/750 [==============================] - 0s 59us/sample - loss: 0.2692 - accuracy: 0.8920\n",
      "Epoch 31/100\n",
      "750/750 [==============================] - 0s 47us/sample - loss: 0.2674 - accuracy: 0.8933\n",
      "Epoch 32/100\n",
      "750/750 [==============================] - 0s 57us/sample - loss: 0.2661 - accuracy: 0.8933\n",
      "Epoch 33/100\n",
      "750/750 [==============================] - 0s 57us/sample - loss: 0.2648 - accuracy: 0.8920\n",
      "Epoch 34/100\n",
      "750/750 [==============================] - 0s 51us/sample - loss: 0.2636 - accuracy: 0.8947\n",
      "Epoch 35/100\n",
      "750/750 [==============================] - 0s 49us/sample - loss: 0.2625 - accuracy: 0.8947\n",
      "Epoch 36/100\n",
      "750/750 [==============================] - 0s 41us/sample - loss: 0.2615 - accuracy: 0.8933\n",
      "Epoch 37/100\n",
      "750/750 [==============================] - 0s 44us/sample - loss: 0.2605 - accuracy: 0.8933\n",
      "Epoch 38/100\n",
      "750/750 [==============================] - 0s 48us/sample - loss: 0.2598 - accuracy: 0.8933\n",
      "Epoch 39/100\n",
      "750/750 [==============================] - 0s 44us/sample - loss: 0.2590 - accuracy: 0.8933\n",
      "Epoch 40/100\n",
      "750/750 [==============================] - 0s 49us/sample - loss: 0.2584 - accuracy: 0.8933\n",
      "Epoch 41/100\n",
      "750/750 [==============================] - 0s 59us/sample - loss: 0.2576 - accuracy: 0.8933\n",
      "Epoch 42/100\n",
      "750/750 [==============================] - 0s 53us/sample - loss: 0.2570 - accuracy: 0.8933\n",
      "Epoch 43/100\n",
      "750/750 [==============================] - 0s 62us/sample - loss: 0.2564 - accuracy: 0.8933\n",
      "Epoch 44/100\n",
      "750/750 [==============================] - 0s 56us/sample - loss: 0.2559 - accuracy: 0.8947\n",
      "Epoch 45/100\n",
      "750/750 [==============================] - 0s 59us/sample - loss: 0.2554 - accuracy: 0.8920\n",
      "Epoch 46/100\n",
      "750/750 [==============================] - 0s 80us/sample - loss: 0.2549 - accuracy: 0.8933\n",
      "Epoch 47/100\n",
      "750/750 [==============================] - 0s 73us/sample - loss: 0.2547 - accuracy: 0.8920\n",
      "Epoch 48/100\n",
      "750/750 [==============================] - 0s 90us/sample - loss: 0.2541 - accuracy: 0.8920\n",
      "Epoch 49/100\n",
      "750/750 [==============================] - 0s 85us/sample - loss: 0.2537 - accuracy: 0.8933\n",
      "Epoch 50/100\n",
      "750/750 [==============================] - 0s 65us/sample - loss: 0.2534 - accuracy: 0.8933\n",
      "Epoch 51/100\n",
      "750/750 [==============================] - 0s 70us/sample - loss: 0.2531 - accuracy: 0.8933\n",
      "Epoch 52/100\n",
      "750/750 [==============================] - 0s 69us/sample - loss: 0.2527 - accuracy: 0.8933\n",
      "Epoch 53/100\n",
      "750/750 [==============================] - 0s 65us/sample - loss: 0.2524 - accuracy: 0.8933\n",
      "Epoch 54/100\n",
      "750/750 [==============================] - 0s 64us/sample - loss: 0.2521 - accuracy: 0.8933\n",
      "Epoch 55/100\n",
      "750/750 [==============================] - 0s 54us/sample - loss: 0.2518 - accuracy: 0.8933\n",
      "Epoch 56/100\n",
      "750/750 [==============================] - 0s 52us/sample - loss: 0.2515 - accuracy: 0.8933\n",
      "Epoch 57/100\n",
      "750/750 [==============================] - 0s 49us/sample - loss: 0.2514 - accuracy: 0.8933\n",
      "Epoch 58/100\n",
      "750/750 [==============================] - 0s 47us/sample - loss: 0.2510 - accuracy: 0.8933\n",
      "Epoch 59/100\n",
      "750/750 [==============================] - 0s 69us/sample - loss: 0.2509 - accuracy: 0.8933\n",
      "Epoch 60/100\n",
      "750/750 [==============================] - 0s 48us/sample - loss: 0.2506 - accuracy: 0.8947\n",
      "Epoch 61/100\n",
      "750/750 [==============================] - 0s 47us/sample - loss: 0.2504 - accuracy: 0.8933\n",
      "Epoch 62/100\n",
      "750/750 [==============================] - 0s 44us/sample - loss: 0.2501 - accuracy: 0.8947\n",
      "Epoch 63/100\n",
      "750/750 [==============================] - 0s 43us/sample - loss: 0.2499 - accuracy: 0.8960\n",
      "Epoch 64/100\n",
      "750/750 [==============================] - 0s 45us/sample - loss: 0.2497 - accuracy: 0.8973\n",
      "Epoch 65/100\n",
      "750/750 [==============================] - 0s 45us/sample - loss: 0.2496 - accuracy: 0.8973\n",
      "Epoch 66/100\n",
      "750/750 [==============================] - 0s 45us/sample - loss: 0.2494 - accuracy: 0.8960\n",
      "Epoch 67/100\n",
      "750/750 [==============================] - 0s 41us/sample - loss: 0.2491 - accuracy: 0.8973\n",
      "Epoch 68/100\n",
      "750/750 [==============================] - 0s 49us/sample - loss: 0.2489 - accuracy: 0.8973\n",
      "Epoch 69/100\n",
      "750/750 [==============================] - 0s 44us/sample - loss: 0.2488 - accuracy: 0.8960\n",
      "Epoch 70/100\n",
      "750/750 [==============================] - 0s 40us/sample - loss: 0.2485 - accuracy: 0.8973\n",
      "Epoch 71/100\n",
      "750/750 [==============================] - 0s 39us/sample - loss: 0.2483 - accuracy: 0.8973\n",
      "Epoch 72/100\n",
      "750/750 [==============================] - 0s 44us/sample - loss: 0.2480 - accuracy: 0.8973\n",
      "Epoch 73/100\n",
      "750/750 [==============================] - 0s 44us/sample - loss: 0.2478 - accuracy: 0.8960\n",
      "Epoch 74/100\n",
      "750/750 [==============================] - 0s 44us/sample - loss: 0.2476 - accuracy: 0.8960\n",
      "Epoch 75/100\n",
      "750/750 [==============================] - 0s 44us/sample - loss: 0.2474 - accuracy: 0.8960\n",
      "Epoch 76/100\n",
      "750/750 [==============================] - 0s 51us/sample - loss: 0.2472 - accuracy: 0.8960\n",
      "Epoch 77/100\n",
      "750/750 [==============================] - 0s 43us/sample - loss: 0.2471 - accuracy: 0.8973\n",
      "Epoch 78/100\n"
     ]
    },
    {
     "name": "stdout",
     "output_type": "stream",
     "text": [
      "750/750 [==============================] - 0s 45us/sample - loss: 0.2467 - accuracy: 0.8973\n",
      "Epoch 79/100\n",
      "750/750 [==============================] - 0s 41us/sample - loss: 0.2465 - accuracy: 0.8973\n",
      "Epoch 80/100\n",
      "750/750 [==============================] - 0s 43us/sample - loss: 0.2463 - accuracy: 0.8973\n",
      "Epoch 81/100\n",
      "750/750 [==============================] - 0s 41us/sample - loss: 0.2459 - accuracy: 0.8973\n",
      "Epoch 82/100\n",
      "750/750 [==============================] - 0s 45us/sample - loss: 0.2456 - accuracy: 0.8973\n",
      "Epoch 83/100\n",
      "750/750 [==============================] - 0s 37us/sample - loss: 0.2453 - accuracy: 0.8973\n",
      "Epoch 84/100\n",
      "750/750 [==============================] - 0s 43us/sample - loss: 0.2451 - accuracy: 0.8973\n",
      "Epoch 85/100\n",
      "750/750 [==============================] - 0s 40us/sample - loss: 0.2447 - accuracy: 0.8973\n",
      "Epoch 86/100\n",
      "750/750 [==============================] - 0s 45us/sample - loss: 0.2445 - accuracy: 0.8973\n",
      "Epoch 87/100\n",
      "750/750 [==============================] - 0s 42us/sample - loss: 0.2442 - accuracy: 0.8973\n",
      "Epoch 88/100\n",
      "750/750 [==============================] - 0s 43us/sample - loss: 0.2438 - accuracy: 0.8973\n",
      "Epoch 89/100\n",
      "750/750 [==============================] - 0s 45us/sample - loss: 0.2434 - accuracy: 0.8973\n",
      "Epoch 90/100\n",
      "750/750 [==============================] - 0s 43us/sample - loss: 0.2432 - accuracy: 0.8973\n",
      "Epoch 91/100\n",
      "750/750 [==============================] - 0s 44us/sample - loss: 0.2427 - accuracy: 0.8973\n",
      "Epoch 92/100\n",
      "750/750 [==============================] - 0s 41us/sample - loss: 0.2424 - accuracy: 0.8973\n",
      "Epoch 93/100\n",
      "750/750 [==============================] - 0s 48us/sample - loss: 0.2420 - accuracy: 0.8973\n",
      "Epoch 94/100\n",
      "750/750 [==============================] - 0s 41us/sample - loss: 0.2415 - accuracy: 0.8973\n",
      "Epoch 95/100\n",
      "750/750 [==============================] - 0s 41us/sample - loss: 0.2412 - accuracy: 0.8973\n",
      "Epoch 96/100\n",
      "750/750 [==============================] - 0s 49us/sample - loss: 0.2406 - accuracy: 0.8973\n",
      "Epoch 97/100\n",
      "750/750 [==============================] - 0s 43us/sample - loss: 0.2402 - accuracy: 0.8973\n",
      "Epoch 98/100\n",
      "750/750 [==============================] - 0s 43us/sample - loss: 0.2397 - accuracy: 0.8973\n",
      "Epoch 99/100\n",
      "750/750 [==============================] - 0s 40us/sample - loss: 0.2392 - accuracy: 0.9000\n",
      "Epoch 100/100\n",
      "750/750 [==============================] - 0s 41us/sample - loss: 0.2387 - accuracy: 0.9000\n"
     ]
    }
   ],
   "source": [
    "# Compile the Sequential model together and customize metrics\n",
    "new_model1.compile(loss=\"binary_crossentropy\", optimizer=\"adam\", metrics=[\"accuracy\"])\n",
    "\n",
    "# Fit the model to the training data\n",
    "new_fit_model1 = new_model1.fit(X_moon_train_scaled, y_moon_train, epochs=100, shuffle=True)"
   ]
  },
  {
   "cell_type": "code",
   "execution_count": null,
   "metadata": {},
   "outputs": [],
   "source": []
  }
 ],
 "metadata": {
  "kernelspec": {
   "display_name": "PythonData",
   "language": "python",
   "name": "pythondata"
  },
  "language_info": {
   "codemirror_mode": {
    "name": "ipython",
    "version": 3
   },
   "file_extension": ".py",
   "mimetype": "text/x-python",
   "name": "python",
   "nbconvert_exporter": "python",
   "pygments_lexer": "ipython3",
   "version": "3.7.6"
  }
 },
 "nbformat": 4,
 "nbformat_minor": 4
}
